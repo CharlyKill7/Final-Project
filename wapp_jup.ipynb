{
 "cells": [
  {
   "cell_type": "code",
   "execution_count": 7,
   "metadata": {},
   "outputs": [],
   "source": [
    "from selenium import webdriver\n",
    "from webdriver_manager.chrome import ChromeDriverManager \n",
    "from selenium.webdriver.chrome.options import Options\n",
    "from selenium.webdriver.common.by import By # By es para buscar por tag, clase, id...\n",
    "import time\n",
    "import zmq\n",
    "import tqdm\n",
    "import warnings\n",
    "warnings.filterwarnings('ignore')\n",
    "\n",
    "from functions import procesar_mensaje\n",
    "\n",
    "options=Options()\n",
    "\n",
    "# quita la bandera de ser robot\n",
    "options.add_experimental_option('excludeSwitches', ['enable-automation'])\n",
    "options.add_experimental_option('useAutomationExtension', False)\n",
    "options.add_argument(\"--remote-allow-origins=*\");\n",
    "options.add_argument(r\"user-data-dir=C:\\Users\\elmat\\anaconda3\\envs\\final\\Lib\\site-packages\\selenium\"); "
   ]
  },
  {
   "cell_type": "code",
   "execution_count": null,
   "metadata": {},
   "outputs": [],
   "source": [
    "context = zmq.Context()\n",
    "socket_rec = context.socket(zmq.SUB)\n",
    "socket_rec.connect(\"tcp://127.0.0.1:5555\")\n",
    "socket_rec.setsockopt_string(zmq.SUBSCRIBE, \"whatsapp\")"
   ]
  },
  {
   "cell_type": "code",
   "execution_count": null,
   "metadata": {},
   "outputs": [],
   "source": [
    "message = socket_rec.recv_string()"
   ]
  },
  {
   "cell_type": "code",
   "execution_count": null,
   "metadata": {},
   "outputs": [],
   "source": [
    "mode, text, name = procesar_mensaje(message)\n",
    "print(f\"Modo: {mode}\")\n",
    "print(f\"Texto: {text}\")\n",
    "print(f\"Nombre: {name}\")"
   ]
  },
  {
   "cell_type": "code",
   "execution_count": 8,
   "metadata": {},
   "outputs": [],
   "source": [
    "PATH = ChromeDriverManager().install() \n",
    "driver=webdriver.Chrome(PATH, options=options)       # abre una venta una de chrome"
   ]
  },
  {
   "cell_type": "code",
   "execution_count": 9,
   "metadata": {},
   "outputs": [
    {
     "ename": "UnexpectedAlertPresentException",
     "evalue": "Alert Text: {Alert text : \nMessage: unexpected alert open: {Alert text : }\n  (Session info: chrome=111.0.5563.65)\nStacktrace:\nBacktrace:\n\t(No symbol) [0x00D4DCE3]\n\t(No symbol) [0x00CE39D1]\n\t(No symbol) [0x00BF4DA8]\n\t(No symbol) [0x00C4D9C8]\n\t(No symbol) [0x00C3ACC6]\n\t(No symbol) [0x00C16F68]\n\t(No symbol) [0x00C180CD]\n\tGetHandleVerifier [0x00FC3832+2506274]\n\tGetHandleVerifier [0x00FF9794+2727300]\n\tGetHandleVerifier [0x00FFE36C+2746716]\n\tGetHandleVerifier [0x00DF6690+617600]\n\t(No symbol) [0x00CEC712]\n\t(No symbol) [0x00CF1FF8]\n\t(No symbol) [0x00CF20DB]\n\t(No symbol) [0x00CFC63B]\n\tBaseThreadInitThunk [0x75997D69+25]\n\tRtlInitializeExceptionChain [0x7756BB9B+107]\n\tRtlClearBits [0x7756BB1F+191]\n",
     "output_type": "error",
     "traceback": [
      "\u001b[1;31m---------------------------------------------------------------------------\u001b[0m",
      "\u001b[1;31mUnexpectedAlertPresentException\u001b[0m           Traceback (most recent call last)",
      "Cell \u001b[1;32mIn[9], line 19\u001b[0m\n\u001b[0;32m     16\u001b[0m time\u001b[39m.\u001b[39msleep(\u001b[39m1\u001b[39m)\n\u001b[0;32m     18\u001b[0m ent \u001b[39m=\u001b[39m driver\u001b[39m.\u001b[39mfind_element(By\u001b[39m.\u001b[39mXPATH,\u001b[39m'\u001b[39m\u001b[39m//*[@id=\u001b[39m\u001b[39m\"\u001b[39m\u001b[39mmain\u001b[39m\u001b[39m\"\u001b[39m\u001b[39m]/footer/div[1]/div/span[2]/div/div[2]/div[2]\u001b[39m\u001b[39m'\u001b[39m)\n\u001b[1;32m---> 19\u001b[0m ent\u001b[39m.\u001b[39;49mclick()\n",
      "File \u001b[1;32mc:\\Users\\elmat\\anaconda3\\envs\\final\\lib\\site-packages\\selenium\\webdriver\\remote\\webelement.py:93\u001b[0m, in \u001b[0;36mWebElement.click\u001b[1;34m(self)\u001b[0m\n\u001b[0;32m     91\u001b[0m \u001b[39mdef\u001b[39;00m \u001b[39mclick\u001b[39m(\u001b[39mself\u001b[39m) \u001b[39m-\u001b[39m\u001b[39m>\u001b[39m \u001b[39mNone\u001b[39;00m:\n\u001b[0;32m     92\u001b[0m     \u001b[39m\"\"\"Clicks the element.\"\"\"\u001b[39;00m\n\u001b[1;32m---> 93\u001b[0m     \u001b[39mself\u001b[39;49m\u001b[39m.\u001b[39;49m_execute(Command\u001b[39m.\u001b[39;49mCLICK_ELEMENT)\n",
      "File \u001b[1;32mc:\\Users\\elmat\\anaconda3\\envs\\final\\lib\\site-packages\\selenium\\webdriver\\remote\\webelement.py:403\u001b[0m, in \u001b[0;36mWebElement._execute\u001b[1;34m(self, command, params)\u001b[0m\n\u001b[0;32m    401\u001b[0m     params \u001b[39m=\u001b[39m {}\n\u001b[0;32m    402\u001b[0m params[\u001b[39m\"\u001b[39m\u001b[39mid\u001b[39m\u001b[39m\"\u001b[39m] \u001b[39m=\u001b[39m \u001b[39mself\u001b[39m\u001b[39m.\u001b[39m_id\n\u001b[1;32m--> 403\u001b[0m \u001b[39mreturn\u001b[39;00m \u001b[39mself\u001b[39;49m\u001b[39m.\u001b[39;49m_parent\u001b[39m.\u001b[39;49mexecute(command, params)\n",
      "File \u001b[1;32mc:\\Users\\elmat\\anaconda3\\envs\\final\\lib\\site-packages\\selenium\\webdriver\\remote\\webdriver.py:440\u001b[0m, in \u001b[0;36mWebDriver.execute\u001b[1;34m(self, driver_command, params)\u001b[0m\n\u001b[0;32m    438\u001b[0m response \u001b[39m=\u001b[39m \u001b[39mself\u001b[39m\u001b[39m.\u001b[39mcommand_executor\u001b[39m.\u001b[39mexecute(driver_command, params)\n\u001b[0;32m    439\u001b[0m \u001b[39mif\u001b[39;00m response:\n\u001b[1;32m--> 440\u001b[0m     \u001b[39mself\u001b[39;49m\u001b[39m.\u001b[39;49merror_handler\u001b[39m.\u001b[39;49mcheck_response(response)\n\u001b[0;32m    441\u001b[0m     response[\u001b[39m\"\u001b[39m\u001b[39mvalue\u001b[39m\u001b[39m\"\u001b[39m] \u001b[39m=\u001b[39m \u001b[39mself\u001b[39m\u001b[39m.\u001b[39m_unwrap_value(response\u001b[39m.\u001b[39mget(\u001b[39m\"\u001b[39m\u001b[39mvalue\u001b[39m\u001b[39m\"\u001b[39m, \u001b[39mNone\u001b[39;00m))\n\u001b[0;32m    442\u001b[0m     \u001b[39mreturn\u001b[39;00m response\n",
      "File \u001b[1;32mc:\\Users\\elmat\\anaconda3\\envs\\final\\lib\\site-packages\\selenium\\webdriver\\remote\\errorhandler.py:244\u001b[0m, in \u001b[0;36mErrorHandler.check_response\u001b[1;34m(self, response)\u001b[0m\n\u001b[0;32m    242\u001b[0m     \u001b[39melif\u001b[39;00m \u001b[39m\"\u001b[39m\u001b[39malert\u001b[39m\u001b[39m\"\u001b[39m \u001b[39min\u001b[39;00m value:\n\u001b[0;32m    243\u001b[0m         alert_text \u001b[39m=\u001b[39m value[\u001b[39m\"\u001b[39m\u001b[39malert\u001b[39m\u001b[39m\"\u001b[39m]\u001b[39m.\u001b[39mget(\u001b[39m\"\u001b[39m\u001b[39mtext\u001b[39m\u001b[39m\"\u001b[39m)\n\u001b[1;32m--> 244\u001b[0m     \u001b[39mraise\u001b[39;00m exception_class(message, screen, stacktrace, alert_text)  \u001b[39m# type: ignore[call-arg]  # mypy is not smart enough here\u001b[39;00m\n\u001b[0;32m    245\u001b[0m \u001b[39mraise\u001b[39;00m exception_class(message, screen, stacktrace)\n",
      "\u001b[1;31mUnexpectedAlertPresentException\u001b[0m: Alert Text: {Alert text : \nMessage: unexpected alert open: {Alert text : }\n  (Session info: chrome=111.0.5563.65)\nStacktrace:\nBacktrace:\n\t(No symbol) [0x00D4DCE3]\n\t(No symbol) [0x00CE39D1]\n\t(No symbol) [0x00BF4DA8]\n\t(No symbol) [0x00C4D9C8]\n\t(No symbol) [0x00C3ACC6]\n\t(No symbol) [0x00C16F68]\n\t(No symbol) [0x00C180CD]\n\tGetHandleVerifier [0x00FC3832+2506274]\n\tGetHandleVerifier [0x00FF9794+2727300]\n\tGetHandleVerifier [0x00FFE36C+2746716]\n\tGetHandleVerifier [0x00DF6690+617600]\n\t(No symbol) [0x00CEC712]\n\t(No symbol) [0x00CF1FF8]\n\t(No symbol) [0x00CF20DB]\n\t(No symbol) [0x00CFC63B]\n\tBaseThreadInitThunk [0x75997D69+25]\n\tRtlInitializeExceptionChain [0x7756BB9B+107]\n\tRtlClearBits [0x7756BB1F+191]\n"
     ]
    }
   ],
   "source": [
    "driver.get('https://web.whatsapp.com/')\n",
    "\n",
    "time.sleep(4)\n",
    "\n",
    "busca = driver.find_element(By.XPATH, '//*[@id=\"side\"]/div[1]/div/div/div[2]/div/div[2]')\n",
    "busca.click() \n",
    "busca.send_keys('edu ironhack')\n",
    "\n",
    "time.sleep(3)\n",
    "\n",
    "uno = driver.find_element(By.XPATH,'//*[@id=\"pane-side\"]/div[1]/div/div/div[1]/div/div/div/div[2]')\n",
    "uno.click()\n",
    "\n",
    "txt = driver.find_element(By.XPATH,'//*[@id=\"main\"]/footer/div[1]/div/span[2]/div/div[2]/div[1]/div/div[1]/p')\n",
    "txt.send_keys('prueba')\n",
    "time.sleep(1)\n",
    "\n",
    "ent = driver.find_element(By.XPATH,'//*[@id=\"main\"]/footer/div[1]/div/span[2]/div/div[2]/div[2]')\n",
    "ent.click()"
   ]
  },
  {
   "cell_type": "code",
   "execution_count": null,
   "metadata": {},
   "outputs": [],
   "source": [
    "\n"
   ]
  }
 ],
 "metadata": {
  "kernelspec": {
   "display_name": "final",
   "language": "python",
   "name": "python3"
  },
  "language_info": {
   "codemirror_mode": {
    "name": "ipython",
    "version": 3
   },
   "file_extension": ".py",
   "mimetype": "text/x-python",
   "name": "python",
   "nbconvert_exporter": "python",
   "pygments_lexer": "ipython3",
   "version": "3.9.16"
  },
  "orig_nbformat": 4
 },
 "nbformat": 4,
 "nbformat_minor": 2
}
