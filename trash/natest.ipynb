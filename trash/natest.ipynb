{
 "cells": [
  {
   "cell_type": "code",
   "execution_count": null,
   "metadata": {},
   "outputs": [],
   "source": [
    "import speech_recognition as sr\n",
    "import time\n",
    "import zmq\n",
    "\n",
    "context = zmq.Context()\n",
    "socket_pub = context.socket(zmq.PUB)\n",
    "socket_pub.bind(\"tcp://127.0.0.1:7777\")\n",
    "\n",
    "# Configurar el dispositivo de audio\n",
    "r = sr.Recognizer()\n",
    "r.pause_threshold = 0.8\n",
    "r.phrase_threshold = 0.3\n",
    "r.non_speaking_duration = 0.2\n",
    "r.energy_threshold = 300\n",
    "\n",
    "mic = sr.Microphone()\n",
    "\n",
    "# Definir las palabras clave\n",
    "clave = \"luna\"\n",
    "clave_stop = \"tierra\"\n",
    "\n",
    "# Variables de control\n",
    "grabando = False\n",
    "\n",
    "time.sleep(8)\n",
    "    \n",
    "while True:\n",
    "    # Leer un fragmento de audio\n",
    "    with mic as fuente:\n",
    "        r.adjust_for_ambient_noise(fuente)\n",
    "        sound = r.listen(fuente)\n",
    "        try:\n",
    "            result = r.recognize_google(sound, language=\"es-ES\")\n",
    "            if not grabando and clave in result.lower():\n",
    "                grabando = True\n",
    "                print(\"Comenzando a grabar...\")\n",
    "            elif grabando and clave_stop in result.lower():\n",
    "                grabando = False\n",
    "                print(\"Deteniendo la grabación...\")\n",
    "            if grabando:\n",
    "                print(result)\n",
    "                #socket_pub.send_string(result)\n",
    "        except sr.UnknownValueError:\n",
    "            pass"
   ]
  },
  {
   "cell_type": "code",
   "execution_count": null,
   "metadata": {},
   "outputs": [],
   "source": []
  }
 ],
 "metadata": {
  "kernelspec": {
   "display_name": "luna",
   "language": "python",
   "name": "python3"
  },
  "language_info": {
   "codemirror_mode": {
    "name": "ipython",
    "version": 3
   },
   "file_extension": ".py",
   "mimetype": "text/x-python",
   "name": "python",
   "nbconvert_exporter": "python",
   "pygments_lexer": "ipython3",
   "version": "3.9.16"
  },
  "orig_nbformat": 4
 },
 "nbformat": 4,
 "nbformat_minor": 2
}
