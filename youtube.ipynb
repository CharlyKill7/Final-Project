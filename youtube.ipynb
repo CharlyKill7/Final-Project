{
 "cells": [
  {
   "cell_type": "code",
   "execution_count": 23,
   "metadata": {},
   "outputs": [],
   "source": [
    "from selenium import webdriver\n",
    "from selenium.webdriver.common.keys import Keys\n",
    "from selenium.webdriver.common.by import By\n",
    "from selenium.webdriver.chrome.service import Service\n",
    "from webdriver_manager.chrome import ChromeDriverManager \n",
    "from selenium.webdriver.chrome.options import Options\n",
    "from selenium.webdriver.support.ui import WebDriverWait\n",
    "from selenium.webdriver.support import expected_conditions as EC\n",
    "import time\n",
    "import logging\n",
    "import zmq\n",
    "import logging\n",
    "import warnings\n",
    "warnings.filterwarnings('ignore')\n",
    "\n",
    "logging.basicConfig(filename='log_youtube.txt', level=logging.DEBUG)\n",
    "\n",
    "options=Options()\n",
    "\n",
    "options.add_experimental_option('excludeSwitches', ['enable-automation'])\n",
    "options.add_experimental_option('useAutomationExtension', False)\n",
    "options.add_argument(\"--remote-allow-origins=*\");\n",
    "options.add_argument(r\"user-data-dir=C:\\Users\\elmat\\anaconda3\\envs\\luna\\Lib\\site-packages\\selenium2\\cookies\")\n",
    "#options.add_argument('--headless')                 #Habilitar si no queremos ver la ventana\n",
    "options.add_experimental_option(\"detach\", True)    #Esta opción corrige el error de cierre repentino\n",
    "options.add_argument('--start-minimized')\n",
    "options.add_argument('--disable-gpu')\n",
    "options.add_argument('--disable-dev-shm-usage')\n",
    "options.add_argument('--no-sandbox')\n",
    "options.add_extension('driver/adblock.crx') \n",
    "#options.add_argument('--disable-extensions')\n",
    "options.add_argument('--disable-infobars')\n",
    "\n",
    "PATH = ChromeDriverManager().install() \n",
    "\n",
    "service3 = Service(PATH)\n",
    "driver3 = webdriver.Chrome(service=service3, options=options)\n",
    "driver3.get('https://www.google.com/')\n",
    "\n",
    "wait4 = WebDriverWait(driver3, 30)  \n",
    "\n",
    "buscador = wait4.until(EC.element_to_be_clickable((By.XPATH, '/html/body/div[1]/div[3]/form/div[1]/div[1]/div[1]/div/div[2]/input')))\n",
    "buscador.click()\n",
    "buscador.send_keys('youtube queen bohemian')\n",
    "buscador.send_keys(Keys.ENTER)\n",
    "\n",
    "time.sleep(0.5)\n",
    "\n",
    "buscar = driver3.find_element(By.XPATH,'//*[@id=\"tsf\"]/div[1]/div[1]/div[2]/div/div[2]/input')\n",
    "buscar.click()\n",
    "buscar.send_keys(Keys.TAB, Keys.TAB, Keys.TAB, Keys.TAB, Keys.TAB, Keys.TAB, Keys.TAB, Keys.TAB, Keys.TAB, Keys.TAB, \n",
    "                Keys.TAB, Keys.TAB, Keys.TAB, Keys.TAB, Keys.TAB, Keys.TAB, Keys.ENTER)"
   ]
  },
  {
   "cell_type": "code",
   "execution_count": null,
   "metadata": {},
   "outputs": [],
   "source": [
    "wait5 = WebDriverWait(driver3, 20) \n",
    "wait6 = WebDriverWait(driver3, 20) \n",
    "\n",
    "time.sleep(1.5)\n",
    "\n",
    "if wait5.until(EC.element_to_be_clickable((By.XPATH, '//*[@id=\"skip-button:5\"]/span/button'))):\n",
    "    publi = wait5.until(EC.element_to_be_clickable((By.XPATH, '//*[@id=\"skip-button:5\"]/span/button')))\n",
    "    pubtxt = wait5.until(EC.element_to_be_clickable((By.XPATH, '//*[@id=\"ad-text:5\"]')))\n",
    "    pubtxt.move_to_element()\n",
    "    publi.click()\n",
    "   \n",
    "\n",
    "elif wait5.until(EC.element_to_be_clickable((By.XPATH, '//*[@id=\"skip-button:6\"]/span/button'))):\n",
    "    publi = wait5.until(EC.element_to_be_clickable((By.XPATH, '//*[@id=\"skip-button:6\"]/span/button')))\n",
    "    pubtxt = wait5.until(EC.element_to_be_clickable((By.XPATH, '//*[@id=\"ad-text:6\"]')))\n",
    "    pubtxt.move_to_element()\n",
    "    publi.click()\n",
    " \n",
    "\n",
    "elif wait6.until(EC.element_to_be_clickable((By.CSS_SELECTOR, '#skip-button\\:5 > span > button'))):\n",
    "    publi2 = wait5.until(EC.element_to_be_clickable((By.CSS_SELECTOR, '#skip-button\\:5 > span > button')))  \n",
    "    pubtxt2 = wait5.until(EC.element_to_be_clickable((By.XPATH, '//*[@id=\"ad-text:5\"]')))\n",
    "    pubtxt2.move_to_element()\n",
    "    publi2.click()\n",
    "    \n",
    "    \n",
    "elif wait6.until(EC.element_to_be_clickable((By.CSS_SELECTOR, '#skip-button\\:6 > span > button'))):\n",
    "    publi2 = wait5.until(EC.element_to_be_clickable((By.CSS_SELECTOR, '#skip-button\\:6 > span > button')))  \n",
    "    pubtxt2 = wait5.until(EC.element_to_be_clickable((By.XPATH, '//*[@id=\"ad-text:6\"]')))\n",
    "    pubtxt2.move_to_element()\n",
    "    publi2.click()\n",
    "\n",
    "else:\n",
    "    pass"
   ]
  },
  {
   "cell_type": "code",
   "execution_count": null,
   "metadata": {},
   "outputs": [],
   "source": [
    "PATH = ChromeDriverManager().install()"
   ]
  },
  {
   "cell_type": "code",
   "execution_count": null,
   "metadata": {},
   "outputs": [],
   "source": [
    "#driver.quit()"
   ]
  },
  {
   "cell_type": "code",
   "execution_count": null,
   "metadata": {},
   "outputs": [],
   "source": [
    "driver=webdriver.Chrome(PATH, options=options)\n",
    "driver.get('https://www.google.com/')\n",
    "\n",
    "wait = WebDriverWait(driver, 30)  # Wait for up to 10 seconds\n",
    "\n",
    "buscador = wait.until(EC.element_to_be_clickable((By.XPATH, '/html/body/div[1]/div[3]/form/div[1]/div[1]/div[1]/div/div[2]/input')))\n",
    "buscador.click()\n",
    "buscador.send_keys('youtube Natos y Waor Raikonen')\n",
    "buscador.send_keys(Keys.ENTER)\n",
    "\n",
    "time.sleep(2)\n",
    "\n",
    "busca = driver.find_element(By.XPATH,'//*[@id=\"tsf\"]/div[1]/div[1]/div[2]/div/div[2]/input')\n",
    "busca.click()\n",
    "busca.send_keys(Keys.TAB, Keys.TAB, Keys.TAB, Keys.TAB, Keys.TAB, Keys.TAB, Keys.TAB, Keys.TAB, Keys.TAB, Keys.TAB, \n",
    "                   Keys.TAB, Keys.TAB, Keys.TAB, Keys.TAB, Keys.TAB, Keys.TAB, Keys.ENTER)\n"
   ]
  },
  {
   "cell_type": "code",
   "execution_count": null,
   "metadata": {},
   "outputs": [],
   "source": [
    "buscador.click()\n"
   ]
  },
  {
   "cell_type": "code",
   "execution_count": null,
   "metadata": {},
   "outputs": [],
   "source": [
    "\n",
    "\n",
    "wait = WebDriverWait(driver, 30)  # Wait for up to 10 seconds\n",
    "\n",
    "buscador = wait.until(EC.element_to_be_clickable((By.XPATH, '/html/body/div[1]/div[3]/form/div[1]/div[1]/div[1]/div/div[2]/input')))\n",
    "\n",
    "time.sleep(2)\n",
    "driver.quit()\n",
    "buscador.send_keys(Keys.TAB, Keys.TAB, Keys.TAB, Keys.TAB, Keys.TAB, Keys.TAB, Keys.TAB, Keys.TAB, Keys.TAB, Keys.TAB, Keys.ENTER)\n"
   ]
  },
  {
   "cell_type": "code",
   "execution_count": null,
   "metadata": {},
   "outputs": [],
   "source": [
    "time.sleep(2)\n",
    "driver.quit()"
   ]
  },
  {
   "cell_type": "code",
   "execution_count": null,
   "metadata": {},
   "outputs": [],
   "source": []
  },
  {
   "cell_type": "code",
   "execution_count": null,
   "metadata": {},
   "outputs": [],
   "source": [
    "\n",
    "buscador.click()\n",
    "buscador.send_keys('Natos y Waor Gold Diggers')\n",
    "buscador.send_keys(Keys.ENTER)\n",
    "\n",
    "send_keys(Keys.DOWN, Keys.DOWN, Keys.DOWN, Keys.DOWN, Keys.DOWN, Keys.DOWN, Keys.DOWN, Keys.DOWN)\n",
    "\n",
    "cookie = wait.until(EC.element_to_be_clickable((By.XPATH, '//*[@id=\"content\"]/div[2]/div[6]/div[1]/ytd-button-renderer[1]/yt-button-shape/button/yt-touch-feedback-shape/div/div[2]')))\n",
    "cookie.click()\n",
    "\n"
   ]
  },
  {
   "cell_type": "code",
   "execution_count": null,
   "metadata": {},
   "outputs": [],
   "source": [
    "wait = WebDriverWait(driver, 30)  # Wait for up to 10 seconds\n",
    "\n",
    "busca = wait.until(EC.element_to_be_clickable((By.XPATH, '//*[@id=\"side\"]/div[1]/div/div/div[2]/div/div[1]/p')))\n",
    "busca.click()\n",
    "busca.click()\n",
    "busca.send_keys(name)\n",
    "\n",
    "busca.click()\n",
    "busca.send_keys('')\n",
    "time.sleep(1)\n",
    "busca.send_keys(Keys.TAB, Keys.TAB)\n",
    "time.sleep(0.5)\n",
    "busca.send_keys(Keys.TAB, Keys.TAB, Keys.TAB, Keys.TAB, Keys.TAB, Keys.TAB)\n",
    "\n",
    "txt = driver.find_element(By.XPATH,'//*[@id=\"main\"]/footer/div[1]/div/span[2]/div/div[2]/div[1]/div/div[1]/p')\n",
    "txt.send_keys(text)\n",
    "time.sleep(1)\n",
    "\n",
    "ent = driver.find_element(By.XPATH,'//*[@id=\"main\"]/footer/div[1]/div/span[2]/div/div[2]/div[2]/button')\n",
    "ent.click()\n",
    "time.sleep(1.5)\n",
    "\n",
    "driver.quit() "
   ]
  },
  {
   "cell_type": "code",
   "execution_count": null,
   "metadata": {},
   "outputs": [],
   "source": []
  }
 ],
 "metadata": {
  "kernelspec": {
   "display_name": "luna",
   "language": "python",
   "name": "python3"
  },
  "language_info": {
   "codemirror_mode": {
    "name": "ipython",
    "version": 3
   },
   "file_extension": ".py",
   "mimetype": "text/x-python",
   "name": "python",
   "nbconvert_exporter": "python",
   "pygments_lexer": "ipython3",
   "version": "3.9.16"
  },
  "orig_nbformat": 4
 },
 "nbformat": 4,
 "nbformat_minor": 2
}
