{
 "cells": [
  {
   "cell_type": "code",
   "execution_count": 1,
   "metadata": {},
   "outputs": [],
   "source": [
    "from selenium import webdriver\n",
    "from webdriver_manager.chrome import ChromeDriverManager \n",
    "from selenium.webdriver.chrome.options import Options\n",
    "from selenium.webdriver.common.by import By \n",
    "from selenium.webdriver.common.keys import Keys\n",
    "from selenium.webdriver.support.ui import WebDriverWait\n",
    "from selenium.webdriver.support import expected_conditions as EC\n",
    "\n",
    "import time"
   ]
  },
  {
   "cell_type": "code",
   "execution_count": 2,
   "metadata": {},
   "outputs": [],
   "source": [
    "import logging\n",
    "\n",
    "from functions import procesar_youtube\n",
    "\n",
    "logging.basicConfig(filename='log_youtube.txt', level=logging.DEBUG)\n",
    "\n",
    "options=Options()\n",
    "\n",
    "# quita la bandera de ser robot\n",
    "options.add_experimental_option('excludeSwitches', ['enable-automation'])\n",
    "options.add_experimental_option('useAutomationExtension', False)\n",
    "#options.add_argument(\"--remote-allow-origins=*\");\n",
    "options.add_argument(r\"user-data-dir=C:\\Users\\elmat\\anaconda3\\envs\\final\\Lib\\site-packages\\selenium\")\n",
    "#options.add_argument('--headless')                 #Habilitar si no queremos ver la ventana\n",
    "#options.add_experimental_option(\"detach\", True)    #Esta opción corrige el error de cierre repentino"
   ]
  },
  {
   "cell_type": "code",
   "execution_count": 3,
   "metadata": {},
   "outputs": [],
   "source": [
    "PATH = ChromeDriverManager().install()"
   ]
  },
  {
   "cell_type": "code",
   "execution_count": 4,
   "metadata": {},
   "outputs": [],
   "source": [
    "#driver.quit()"
   ]
  },
  {
   "cell_type": "code",
   "execution_count": 5,
   "metadata": {},
   "outputs": [
    {
     "name": "stderr",
     "output_type": "stream",
     "text": [
      "C:\\Users\\elmat\\AppData\\Local\\Temp\\ipykernel_14020\\3175578914.py:1: DeprecationWarning: executable_path has been deprecated, please pass in a Service object\n",
      "  driver=webdriver.Chrome(PATH, options=options)\n"
     ]
    }
   ],
   "source": [
    "driver=webdriver.Chrome(PATH, options=options)\n",
    "driver.get('https://www.google.com/')\n",
    "\n",
    "wait = WebDriverWait(driver, 30)  # Wait for up to 10 seconds\n",
    "\n",
    "buscador = wait.until(EC.element_to_be_clickable((By.XPATH, '/html/body/div[1]/div[3]/form/div[1]/div[1]/div[1]/div/div[2]/input')))\n",
    "buscador.click()\n",
    "buscador.send_keys('youtube Natos y Waor Raikonen')\n",
    "buscador.send_keys(Keys.ENTER)\n",
    "\n",
    "time.sleep(2)\n",
    "\n",
    "busca = driver.find_element(By.XPATH,'//*[@id=\"tsf\"]/div[1]/div[1]/div[2]/div/div[2]/input')\n",
    "busca.click()\n",
    "busca.send_keys(Keys.TAB, Keys.TAB, Keys.TAB, Keys.TAB, Keys.TAB, Keys.TAB, Keys.TAB, Keys.TAB, Keys.TAB, Keys.TAB, \n",
    "                   Keys.TAB, Keys.TAB, Keys.TAB, Keys.TAB, Keys.TAB, Keys.TAB, Keys.ENTER)\n"
   ]
  },
  {
   "cell_type": "code",
   "execution_count": null,
   "metadata": {},
   "outputs": [],
   "source": [
    "buscador.click()\n"
   ]
  },
  {
   "cell_type": "code",
   "execution_count": null,
   "metadata": {},
   "outputs": [],
   "source": [
    "\n",
    "\n",
    "wait = WebDriverWait(driver, 30)  # Wait for up to 10 seconds\n",
    "\n",
    "buscador = wait.until(EC.element_to_be_clickable((By.XPATH, '/html/body/div[1]/div[3]/form/div[1]/div[1]/div[1]/div/div[2]/input')))\n",
    "\n",
    "time.sleep(2)\n",
    "driver.quit()\n",
    "buscador.send_keys(Keys.TAB, Keys.TAB, Keys.TAB, Keys.TAB, Keys.TAB, Keys.TAB, Keys.TAB, Keys.TAB, Keys.TAB, Keys.TAB, Keys.ENTER)\n"
   ]
  },
  {
   "cell_type": "code",
   "execution_count": null,
   "metadata": {},
   "outputs": [],
   "source": [
    "time.sleep(2)\n",
    "driver.quit()"
   ]
  },
  {
   "cell_type": "code",
   "execution_count": null,
   "metadata": {},
   "outputs": [],
   "source": []
  },
  {
   "cell_type": "code",
   "execution_count": null,
   "metadata": {},
   "outputs": [],
   "source": [
    "\n",
    "buscador.click()\n",
    "buscador.send_keys('Natos y Waor Gold Diggers')\n",
    "buscador.send_keys(Keys.ENTER)\n",
    "\n",
    "send_keys(Keys.DOWN, Keys.DOWN, Keys.DOWN, Keys.DOWN, Keys.DOWN, Keys.DOWN, Keys.DOWN, Keys.DOWN)\n",
    "\n",
    "cookie = wait.until(EC.element_to_be_clickable((By.XPATH, '//*[@id=\"content\"]/div[2]/div[6]/div[1]/ytd-button-renderer[1]/yt-button-shape/button/yt-touch-feedback-shape/div/div[2]')))\n",
    "cookie.click()\n",
    "\n"
   ]
  },
  {
   "cell_type": "code",
   "execution_count": null,
   "metadata": {},
   "outputs": [],
   "source": [
    "wait = WebDriverWait(driver, 30)  # Wait for up to 10 seconds\n",
    "\n",
    "busca = wait.until(EC.element_to_be_clickable((By.XPATH, '//*[@id=\"side\"]/div[1]/div/div/div[2]/div/div[1]/p')))\n",
    "busca.click()\n",
    "busca.click()\n",
    "busca.send_keys(name)\n",
    "\n",
    "busca.click()\n",
    "busca.send_keys('')\n",
    "time.sleep(1)\n",
    "busca.send_keys(Keys.TAB, Keys.TAB)\n",
    "time.sleep(0.5)\n",
    "busca.send_keys(Keys.TAB, Keys.TAB, Keys.TAB, Keys.TAB, Keys.TAB, Keys.TAB)\n",
    "\n",
    "txt = driver.find_element(By.XPATH,'//*[@id=\"main\"]/footer/div[1]/div/span[2]/div/div[2]/div[1]/div/div[1]/p')\n",
    "txt.send_keys(text)\n",
    "time.sleep(1)\n",
    "\n",
    "ent = driver.find_element(By.XPATH,'//*[@id=\"main\"]/footer/div[1]/div/span[2]/div/div[2]/div[2]/button')\n",
    "ent.click()\n",
    "time.sleep(1.5)\n",
    "\n",
    "driver.quit() "
   ]
  },
  {
   "cell_type": "code",
   "execution_count": null,
   "metadata": {},
   "outputs": [],
   "source": []
  }
 ],
 "metadata": {
  "kernelspec": {
   "display_name": "luna",
   "language": "python",
   "name": "python3"
  },
  "language_info": {
   "codemirror_mode": {
    "name": "ipython",
    "version": 3
   },
   "file_extension": ".py",
   "mimetype": "text/x-python",
   "name": "python",
   "nbconvert_exporter": "python",
   "pygments_lexer": "ipython3",
   "version": "3.9.16"
  },
  "orig_nbformat": 4
 },
 "nbformat": 4,
 "nbformat_minor": 2
}
