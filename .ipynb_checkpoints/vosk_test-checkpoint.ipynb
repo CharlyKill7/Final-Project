{
 "cells": [
  {
   "cell_type": "code",
   "execution_count": 1,
   "id": "d28c0672",
   "metadata": {},
   "outputs": [],
   "source": [
    "#%pip install vosk\n",
    "#%pip install pyaudio"
   ]
  },
  {
   "cell_type": "code",
   "execution_count": 2,
   "id": "d7638a9a",
   "metadata": {},
   "outputs": [],
   "source": [
    "import vosk\n",
    "import os\n",
    "import time\n",
    "import json"
   ]
  },
  {
   "cell_type": "code",
   "execution_count": 3,
   "id": "e89f2dac",
   "metadata": {},
   "outputs": [
    {
     "name": "stdout",
     "output_type": "stream",
     "text": [
      "CPU times: total: 24.5 s\n",
      "Wall time: 24.7 s\n"
     ]
    }
   ],
   "source": [
    "%%time\n",
    "\n",
    "# Cargar el modelo de lenguaje en español\n",
    "model = vosk.Model(\"models/vosk-model-es-0.42\")\n",
    "\n",
    "# Crear el reconocedor de voz\n",
    "rec = vosk.KaldiRecognizer(model, 16000)"
   ]
  },
  {
   "cell_type": "code",
   "execution_count": null,
   "id": "1150fe80",
   "metadata": {},
   "outputs": [
    {
     "name": "stdout",
     "output_type": "stream",
     "text": [
      "{\n",
      "  \"text\" : \"imprime al wanda para que compruebe\"\n",
      "}\n",
      "{\n",
      "  \"text\" : \"perfecto ahora sí imprimiendo cosas\"\n",
      "}\n",
      "{\n",
      "  \"text\" : \"chris has transcurre mucho la verdad\"\n",
      "}\n",
      "{\n",
      "  \"text\" : \"la apertura musée d'orsay o ella posteaste de esos objetivos del proyecto que he hecho\"\n",
      "}\n",
      "{\n",
      "  \"text\" : \"iker uno\"\n",
      "}\n",
      "{\n",
      "  \"text\" : \"yo he hecho un hueco\"\n",
      "}\n",
      "{\n",
      "  \"text\" : \"luego fue cada uno que más\"\n",
      "}\n",
      "{\n",
      "  \"text\" : \"un\"\n",
      "}\n",
      "{\n",
      "  \"text\" : \"es un reto nuevo sí y por eso continúa con ricas\"\n",
      "}\n",
      "{\n",
      "  \"text\" : \"y es porque el cerebro humano\"\n",
      "}\n",
      "{\n",
      "  \"text\" : \"no se entera de nada\"\n",
      "}\n",
      "{\n",
      "  \"text\" : \"es decir la que crea un trecho tuyo como si fuera un proyecto y aparte porque has vale\"\n",
      "}\n",
      "{\n",
      "  \"text\" : \"es hora de callarse\"\n",
      "}\n",
      "{\n",
      "  \"text\" : \"tierra\"\n",
      "}\n"
     ]
    }
   ],
   "source": [
    "import pyaudio\n",
    "\n",
    "# Configurar el dispositivo de audio\n",
    "audio = pyaudio.PyAudio()\n",
    "stream = audio.open(format=pyaudio.paInt16,   # formato de datos de audio que se van a grabar. En este caso, se utiliza pyaudio.paInt16, que es un formato de 16 bits que se utiliza comúnmente para la grabación de voz.\n",
    "                    channels=1,               # número de canales de audio que se van a grabar. En este caso, se utiliza 1, que es el número de canales para grabación mono.\n",
    "                    rate=16000,               # tasa de muestreo de audio que se va a utilizar. En este caso, se utiliza 16000, que es una tasa de muestreo común para grabación de voz.\n",
    "                    input=True,               # booleano que indica si el flujo de audio es de entrada o salida. En este caso, se utiliza True para indicar que se va a grabar audio desde el dispositivo.\n",
    "                    frames_per_buffer=8000)   # número de cuadros de audio que se van a leer cada vez que se lee del flujo de audio. En este caso, se utiliza 8000, que es el número de cuadros que se leerán cada vez que se lee del flujo de audio.\n",
    "\n",
    "# Definir las palabras clave\n",
    "clave = \"luna\"\n",
    "clave_stop = \"tierra\"\n",
    "\n",
    "# Inicializar el reconocedor de voz\n",
    "rec = vosk.KaldiRecognizer(model, 16000)\n",
    "\n",
    "# Variables de control\n",
    "grabando = False\n",
    "\n",
    "while True:\n",
    "    # Leer un fragmento de audio\n",
    "    data = stream.read(4000, exception_on_overflow=False)\n",
    "    # Alimentar el fragmento de audio al reconocedor de voz\n",
    "    if rec.AcceptWaveform(data):\n",
    "        # Obtener la transcripción\n",
    "        result = rec.Result()\n",
    "        if clave in result:\n",
    "            grabando = True\n",
    "            while grabando:\n",
    "                data = stream.read(4000, exception_on_overflow=False)\n",
    "                if rec.AcceptWaveform(data):\n",
    "                    result2 = rec.Result()\n",
    "                    if 'xt\" : \"\"' not in result2:\n",
    "                        time.sleep(0.5)\n",
    "                        print(result2)\n",
    "                        if clave_stop in result2:\n",
    "                            grabando = False"
   ]
  },
  {
   "cell_type": "code",
   "execution_count": null,
   "id": "482c25f1",
   "metadata": {},
   "outputs": [],
   "source": []
  },
  {
   "cell_type": "code",
   "execution_count": null,
   "id": "fa764eb7",
   "metadata": {},
   "outputs": [],
   "source": [
    "\n"
   ]
  },
  {
   "cell_type": "code",
   "execution_count": null,
   "id": "3464087c",
   "metadata": {},
   "outputs": [],
   "source": []
  }
 ],
 "metadata": {
  "kernelspec": {
   "display_name": "Python 3 (ipykernel)",
   "language": "python",
   "name": "python3"
  },
  "language_info": {
   "codemirror_mode": {
    "name": "ipython",
    "version": 3
   },
   "file_extension": ".py",
   "mimetype": "text/x-python",
   "name": "python",
   "nbconvert_exporter": "python",
   "pygments_lexer": "ipython3",
   "version": "3.9.16"
  }
 },
 "nbformat": 4,
 "nbformat_minor": 5
}
