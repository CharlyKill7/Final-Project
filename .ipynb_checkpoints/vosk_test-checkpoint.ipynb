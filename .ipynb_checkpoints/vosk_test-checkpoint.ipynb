{
 "cells": [
  {
   "cell_type": "code",
   "execution_count": null,
   "id": "d28c0672",
   "metadata": {},
   "outputs": [],
   "source": [
    "#%pip install vosk\n",
    "#%pip install pyaudio"
   ]
  },
  {
   "cell_type": "code",
   "execution_count": null,
   "id": "d7638a9a",
   "metadata": {},
   "outputs": [],
   "source": [
    "import vosk\n",
    "import os\n",
    "import time"
   ]
  },
  {
   "cell_type": "code",
   "execution_count": null,
   "id": "e89f2dac",
   "metadata": {},
   "outputs": [],
   "source": [
    "%%time\n",
    "\n",
    "# Cargar el modelo de lenguaje en español\n",
    "model = vosk.Model(\"models/vosk-model-es-0.42\")\n",
    "\n",
    "# Crear el reconocedor de voz\n",
    "rec = vosk.KaldiRecognizer(model, 16000)"
   ]
  },
  {
   "cell_type": "code",
   "execution_count": null,
   "id": "1150fe80",
   "metadata": {},
   "outputs": [],
   "source": [
    "import pyaudio\n",
    "\n",
    "# Configurar el dispositivo de audio\n",
    "audio = pyaudio.PyAudio()\n",
    "stream = audio.open(format=pyaudio.paInt16,   # formato de datos de audio que se van a grabar. En este caso, se utiliza pyaudio.paInt16, que es un formato de 16 bits que se utiliza comúnmente para la grabación de voz.\n",
    "                    channels=1,               # número de canales de audio que se van a grabar. En este caso, se utiliza 1, que es el número de canales para grabación mono.\n",
    "                    rate=16000,               # tasa de muestreo de audio que se va a utilizar. En este caso, se utiliza 16000, que es una tasa de muestreo común para grabación de voz.\n",
    "                    input=True,               # booleano que indica si el flujo de audio es de entrada o salida. En este caso, se utiliza True para indicar que se va a grabar audio desde el dispositivo.\n",
    "                    frames_per_buffer=8000)   # número de cuadros de audio que se van a leer cada vez que se lee del flujo de audio. En este caso, se utiliza 8000, que es el número de cuadros que se leerán cada vez que se lee del flujo de audio.\n",
    "\n",
    "# Definir las palabras clave\n",
    "clave = \"luna\"\n",
    "clave_stop = \"tierra\"\n",
    "\n",
    "# Inicializar el reconocedor de voz\n",
    "rec = vosk.KaldiRecognizer(model, 16000)\n",
    "\n",
    "# Variables de control\n",
    "grabando = False\n",
    "\n",
    "while True:\n",
    "    # Leer un fragmento de audio\n",
    "    data = stream.read(4000, exception_on_overflow=False)\n",
    "    # Alimentar el fragmento de audio al reconocedor de voz\n",
    "    if rec.AcceptWaveform(data):\n",
    "        # Obtener la transcripción\n",
    "        result = rec.Result()\n",
    "        if clave in result:\n",
    "            grabando = True\n",
    "            while grabando:\n",
    "                data = stream.read(4000, exception_on_overflow=False)\n",
    "                if rec.AcceptWaveform(data):\n",
    "                    result2 = rec.Result()\n",
    "                    if 'xt\" : \"\"' not in result2:\n",
    "                        time.sleep(0.5)\n",
    "                        print(result2)\n",
    "                        if clave_stop in result2:\n",
    "                            grabando = False"
   ]
  },
  {
   "cell_type": "code",
   "execution_count": null,
   "id": "482c25f1",
   "metadata": {},
   "outputs": [],
   "source": []
  }
 ],
 "metadata": {
  "kernelspec": {
   "display_name": "Python 3 (ipykernel)",
   "language": "python",
   "name": "python3"
  },
  "language_info": {
   "codemirror_mode": {
    "name": "ipython",
    "version": 3
   },
   "file_extension": ".py",
   "mimetype": "text/x-python",
   "name": "python",
   "nbconvert_exporter": "python",
   "pygments_lexer": "ipython3",
   "version": "3.9.16"
  }
 },
 "nbformat": 4,
 "nbformat_minor": 5
}
