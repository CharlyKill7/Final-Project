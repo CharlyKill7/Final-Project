{
 "cells": [
  {
   "cell_type": "code",
   "execution_count": null,
   "id": "1a073566",
   "metadata": {},
   "outputs": [],
   "source": [
    "%pip install zmq"
   ]
  },
  {
   "cell_type": "code",
   "execution_count": null,
   "id": "19e97a9b",
   "metadata": {},
   "outputs": [],
   "source": [
    "%pip install openai\n",
    "%pip install -U openai-whisper"
   ]
  },
  {
   "cell_type": "code",
   "execution_count": null,
   "id": "d7923406",
   "metadata": {},
   "outputs": [],
   "source": [
    "%pip uninstall selenium"
   ]
  },
  {
   "cell_type": "code",
   "execution_count": null,
   "id": "524f0233",
   "metadata": {},
   "outputs": [],
   "source": [
    "%pip install selenium"
   ]
  },
  {
   "cell_type": "code",
   "execution_count": null,
   "id": "d1635821",
   "metadata": {},
   "outputs": [],
   "source": [
    "%pip install webdriver-manager"
   ]
  },
  {
   "cell_type": "code",
   "execution_count": null,
   "id": "3892d7d1",
   "metadata": {},
   "outputs": [],
   "source": [
    "%pip install tqdm"
   ]
  },
  {
   "cell_type": "code",
   "execution_count": null,
   "id": "12da58d8",
   "metadata": {},
   "outputs": [],
   "source": []
  }
 ],
 "metadata": {
  "kernelspec": {
   "display_name": "Python 3 (ipykernel)",
   "language": "python",
   "name": "python3"
  },
  "language_info": {
   "codemirror_mode": {
    "name": "ipython",
    "version": 3
   },
   "file_extension": ".py",
   "mimetype": "text/x-python",
   "name": "python",
   "nbconvert_exporter": "python",
   "pygments_lexer": "ipython3",
   "version": "3.9.16"
  }
 },
 "nbformat": 4,
 "nbformat_minor": 5
}
