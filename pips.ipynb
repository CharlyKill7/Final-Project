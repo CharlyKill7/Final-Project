{
 "cells": [
  {
   "cell_type": "code",
   "execution_count": 1,
   "id": "1a073566",
   "metadata": {},
   "outputs": [
    {
     "name": "stdout",
     "output_type": "stream",
     "text": [
      "Collecting zmq\n",
      "  Downloading zmq-0.0.0.zip (2.2 kB)\n",
      "  Preparing metadata (setup.py): started\n",
      "  Preparing metadata (setup.py): finished with status 'done'\n",
      "Requirement already satisfied: pyzmq in c:\\users\\elmat\\anaconda3\\envs\\final\\lib\\site-packages (from zmq) (23.2.0)\n",
      "Building wheels for collected packages: zmq\n",
      "  Building wheel for zmq (setup.py): started\n",
      "  Building wheel for zmq (setup.py): finished with status 'done'\n",
      "  Created wheel for zmq: filename=zmq-0.0.0-py3-none-any.whl size=1270 sha256=ae0d19c3189a6c62cfbf3027592d04828cd247120025dfbe8106de63c36f6101\n",
      "  Stored in directory: c:\\users\\elmat\\appdata\\local\\pip\\cache\\wheels\\5b\\3b\\c0\\3521e7134b070e656ac26fea19d2110a88e351f0cb9b72e315\n",
      "Successfully built zmq\n",
      "Installing collected packages: zmq\n",
      "Successfully installed zmq-0.0.0\n",
      "Note: you may need to restart the kernel to use updated packages.\n"
     ]
    }
   ],
   "source": [
    "%pip install zmq"
   ]
  },
  {
   "cell_type": "code",
   "execution_count": 1,
   "id": "19e97a9b",
   "metadata": {},
   "outputs": [
    {
     "name": "stdout",
     "output_type": "stream",
     "text": [
      "Collecting openai-whisper\n",
      "  Using cached openai_whisper-20230307-py3-none-any.whl\n",
      "Requirement already satisfied: ffmpeg-python==0.2.0 in c:\\users\\elmat\\anaconda3\\envs\\final\\lib\\site-packages (from openai-whisper) (0.2.0)\n",
      "Requirement already satisfied: tqdm in c:\\users\\elmat\\anaconda3\\envs\\final\\lib\\site-packages (from openai-whisper) (4.65.0)\n",
      "Requirement already satisfied: numpy in c:\\users\\elmat\\anaconda3\\envs\\final\\lib\\site-packages (from openai-whisper) (1.23.5)\n",
      "Requirement already satisfied: transformers>=4.19.0 in c:\\users\\elmat\\anaconda3\\envs\\final\\lib\\site-packages (from openai-whisper) (4.26.1)\n",
      "Requirement already satisfied: torch in c:\\users\\elmat\\anaconda3\\envs\\final\\lib\\site-packages (from openai-whisper) (1.13.1)\n",
      "Requirement already satisfied: more-itertools in c:\\users\\elmat\\anaconda3\\envs\\final\\lib\\site-packages (from openai-whisper) (9.1.0)\n",
      "Requirement already satisfied: numba in c:\\users\\elmat\\anaconda3\\envs\\final\\lib\\site-packages (from openai-whisper) (0.56.4)\n",
      "Requirement already satisfied: future in c:\\users\\elmat\\anaconda3\\envs\\final\\lib\\site-packages (from ffmpeg-python==0.2.0->openai-whisper) (0.18.3)\n",
      "Requirement already satisfied: filelock in c:\\users\\elmat\\anaconda3\\envs\\final\\lib\\site-packages (from transformers>=4.19.0->openai-whisper) (3.9.0)\n",
      "Requirement already satisfied: tokenizers!=0.11.3,<0.14,>=0.11.1 in c:\\users\\elmat\\anaconda3\\envs\\final\\lib\\site-packages (from transformers>=4.19.0->openai-whisper) (0.13.2)\n",
      "Requirement already satisfied: regex!=2019.12.17 in c:\\users\\elmat\\anaconda3\\envs\\final\\lib\\site-packages (from transformers>=4.19.0->openai-whisper) (2022.10.31)\n",
      "Requirement already satisfied: requests in c:\\users\\elmat\\anaconda3\\envs\\final\\lib\\site-packages (from transformers>=4.19.0->openai-whisper) (2.28.2)\n",
      "Requirement already satisfied: pyyaml>=5.1 in c:\\users\\elmat\\anaconda3\\envs\\final\\lib\\site-packages (from transformers>=4.19.0->openai-whisper) (6.0)\n",
      "Requirement already satisfied: huggingface-hub<1.0,>=0.11.0 in c:\\users\\elmat\\anaconda3\\envs\\final\\lib\\site-packages (from transformers>=4.19.0->openai-whisper) (0.13.0)\n",
      "Requirement already satisfied: packaging>=20.0 in c:\\users\\elmat\\anaconda3\\envs\\final\\lib\\site-packages (from transformers>=4.19.0->openai-whisper) (22.0)\n",
      "Requirement already satisfied: colorama in c:\\users\\elmat\\anaconda3\\envs\\final\\lib\\site-packages (from tqdm->openai-whisper) (0.4.6)\n",
      "Requirement already satisfied: llvmlite<0.40,>=0.39.0dev0 in c:\\users\\elmat\\anaconda3\\envs\\final\\lib\\site-packages (from numba->openai-whisper) (0.39.1)\n",
      "Requirement already satisfied: setuptools in c:\\users\\elmat\\anaconda3\\envs\\final\\lib\\site-packages (from numba->openai-whisper) (65.6.3)\n",
      "Requirement already satisfied: typing-extensions in c:\\users\\elmat\\anaconda3\\envs\\final\\lib\\site-packages (from torch->openai-whisper) (4.4.0)\n",
      "Requirement already satisfied: certifi>=2017.4.17 in c:\\users\\elmat\\anaconda3\\envs\\final\\lib\\site-packages (from requests->transformers>=4.19.0->openai-whisper) (2022.12.7)\n",
      "Requirement already satisfied: idna<4,>=2.5 in c:\\users\\elmat\\anaconda3\\envs\\final\\lib\\site-packages (from requests->transformers>=4.19.0->openai-whisper) (3.4)\n",
      "Requirement already satisfied: charset-normalizer<4,>=2 in c:\\users\\elmat\\anaconda3\\envs\\final\\lib\\site-packages (from requests->transformers>=4.19.0->openai-whisper) (3.1.0)\n",
      "Requirement already satisfied: urllib3<1.27,>=1.21.1 in c:\\users\\elmat\\anaconda3\\envs\\final\\lib\\site-packages (from requests->transformers>=4.19.0->openai-whisper) (1.26.14)\n",
      "Installing collected packages: openai-whisper\n",
      "Successfully installed openai-whisper-20230307\n",
      "Note: you may need to restart the kernel to use updated packages.\n"
     ]
    }
   ],
   "source": [
    "%pip install openai\n",
    "%pip install -U openai-whisper"
   ]
  },
  {
   "cell_type": "code",
   "execution_count": null,
   "id": "524f0233",
   "metadata": {},
   "outputs": [],
   "source": []
  }
 ],
 "metadata": {
  "kernelspec": {
   "display_name": "Python 3 (ipykernel)",
   "language": "python",
   "name": "python3"
  },
  "language_info": {
   "codemirror_mode": {
    "name": "ipython",
    "version": 3
   },
   "file_extension": ".py",
   "mimetype": "text/x-python",
   "name": "python",
   "nbconvert_exporter": "python",
   "pygments_lexer": "ipython3",
   "version": "3.9.16"
  }
 },
 "nbformat": 4,
 "nbformat_minor": 5
}
