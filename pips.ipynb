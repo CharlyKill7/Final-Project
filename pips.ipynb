{
 "cells": [
  {
   "cell_type": "code",
   "execution_count": 1,
   "id": "1a073566",
   "metadata": {},
   "outputs": [
    {
     "name": "stdout",
     "output_type": "stream",
     "text": [
      "Collecting zmq\n",
      "  Downloading zmq-0.0.0.zip (2.2 kB)\n",
      "  Preparing metadata (setup.py): started\n",
      "  Preparing metadata (setup.py): finished with status 'done'\n",
      "Requirement already satisfied: pyzmq in c:\\users\\elmat\\anaconda3\\envs\\final\\lib\\site-packages (from zmq) (23.2.0)\n",
      "Building wheels for collected packages: zmq\n",
      "  Building wheel for zmq (setup.py): started\n",
      "  Building wheel for zmq (setup.py): finished with status 'done'\n",
      "  Created wheel for zmq: filename=zmq-0.0.0-py3-none-any.whl size=1270 sha256=ae0d19c3189a6c62cfbf3027592d04828cd247120025dfbe8106de63c36f6101\n",
      "  Stored in directory: c:\\users\\elmat\\appdata\\local\\pip\\cache\\wheels\\5b\\3b\\c0\\3521e7134b070e656ac26fea19d2110a88e351f0cb9b72e315\n",
      "Successfully built zmq\n",
      "Installing collected packages: zmq\n",
      "Successfully installed zmq-0.0.0\n",
      "Note: you may need to restart the kernel to use updated packages.\n"
     ]
    }
   ],
   "source": [
    "%pip install zmq"
   ]
  },
  {
   "cell_type": "code",
   "execution_count": null,
   "id": "19e97a9b",
   "metadata": {},
   "outputs": [],
   "source": []
  }
 ],
 "metadata": {
  "kernelspec": {
   "display_name": "Python 3 (ipykernel)",
   "language": "python",
   "name": "python3"
  },
  "language_info": {
   "codemirror_mode": {
    "name": "ipython",
    "version": 3
   },
   "file_extension": ".py",
   "mimetype": "text/x-python",
   "name": "python",
   "nbconvert_exporter": "python",
   "pygments_lexer": "ipython3",
   "version": "3.9.16"
  }
 },
 "nbformat": 4,
 "nbformat_minor": 5
}
