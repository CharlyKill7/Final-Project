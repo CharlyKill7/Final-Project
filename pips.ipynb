{
 "cells": [
  {
   "cell_type": "code",
   "execution_count": null,
   "id": "1a073566",
   "metadata": {},
   "outputs": [],
   "source": [
    "%pip install zmq"
   ]
  },
  {
   "cell_type": "code",
   "execution_count": 1,
   "id": "19e97a9b",
   "metadata": {},
   "outputs": [
    {
     "name": "stdout",
     "output_type": "stream",
     "text": [
      "Collecting openai\n",
      "  Downloading openai-0.27.1.tar.gz (57 kB)\n",
      "     ---------------------------------------- 57.3/57.3 kB 1.5 MB/s eta 0:00:00\n",
      "  Installing build dependencies: started\n",
      "  Installing build dependencies: finished with status 'done'\n",
      "  Getting requirements to build wheel: started\n",
      "  Getting requirements to build wheel: finished with status 'done'\n",
      "  Installing backend dependencies: started\n",
      "  Installing backend dependencies: finished with status 'done'\n",
      "  Preparing metadata (pyproject.toml): started\n",
      "  Preparing metadata (pyproject.toml): finished with status 'done'\n",
      "Collecting tqdm\n",
      "  Using cached tqdm-4.65.0-py3-none-any.whl (77 kB)\n",
      "Collecting aiohttp\n",
      "  Downloading aiohttp-3.8.4-cp310-cp310-win_amd64.whl (319 kB)\n",
      "     -------------------------------------- 319.8/319.8 kB 2.8 MB/s eta 0:00:00\n",
      "Collecting requests>=2.20\n",
      "  Using cached requests-2.28.2-py3-none-any.whl (62 kB)\n",
      "Collecting charset-normalizer<4,>=2\n",
      "  Downloading charset_normalizer-3.1.0-cp310-cp310-win_amd64.whl (97 kB)\n",
      "     ---------------------------------------- 97.1/97.1 kB 2.7 MB/s eta 0:00:00\n",
      "Collecting urllib3<1.27,>=1.21.1\n",
      "  Using cached urllib3-1.26.14-py2.py3-none-any.whl (140 kB)\n",
      "Requirement already satisfied: certifi>=2017.4.17 in c:\\users\\elmat\\anaconda3\\envs\\finpro\\lib\\site-packages (from requests>=2.20->openai) (2022.12.7)\n",
      "Collecting idna<4,>=2.5\n",
      "  Using cached idna-3.4-py3-none-any.whl (61 kB)\n",
      "Collecting yarl<2.0,>=1.0\n",
      "  Downloading yarl-1.8.2-cp310-cp310-win_amd64.whl (56 kB)\n",
      "     ---------------------------------------- 56.1/56.1 kB 2.9 MB/s eta 0:00:00\n",
      "Collecting attrs>=17.3.0\n",
      "  Using cached attrs-22.2.0-py3-none-any.whl (60 kB)\n",
      "Collecting frozenlist>=1.1.1\n",
      "  Downloading frozenlist-1.3.3-cp310-cp310-win_amd64.whl (33 kB)\n",
      "Collecting multidict<7.0,>=4.5\n",
      "  Downloading multidict-6.0.4-cp310-cp310-win_amd64.whl (28 kB)\n",
      "Collecting aiosignal>=1.1.2\n",
      "  Using cached aiosignal-1.3.1-py3-none-any.whl (7.6 kB)\n",
      "Collecting async-timeout<5.0,>=4.0.0a3\n",
      "  Using cached async_timeout-4.0.2-py3-none-any.whl (5.8 kB)\n",
      "Requirement already satisfied: colorama in c:\\users\\elmat\\anaconda3\\envs\\finpro\\lib\\site-packages (from tqdm->openai) (0.4.6)\n",
      "Building wheels for collected packages: openai\n",
      "  Building wheel for openai (pyproject.toml): started\n",
      "  Building wheel for openai (pyproject.toml): finished with status 'done'\n",
      "  Created wheel for openai: filename=openai-0.27.1-py3-none-any.whl size=70138 sha256=41309f6389cb6f2892a3eaa3247568298aeb5579f4dea1bd6f5fa1567049e5bc\n",
      "  Stored in directory: c:\\users\\elmat\\appdata\\local\\pip\\cache\\wheels\\59\\84\\c9\\86440ce1005438e7547b520c76b11a9d3e41ed116f7bfe9c39\n",
      "Successfully built openai\n",
      "Installing collected packages: urllib3, tqdm, multidict, idna, frozenlist, charset-normalizer, attrs, async-timeout, yarl, requests, aiosignal, aiohttp, openai\n",
      "Successfully installed aiohttp-3.8.4 aiosignal-1.3.1 async-timeout-4.0.2 attrs-22.2.0 charset-normalizer-3.1.0 frozenlist-1.3.3 idna-3.4 multidict-6.0.4 openai-0.27.1 requests-2.28.2 tqdm-4.65.0 urllib3-1.26.14 yarl-1.8.2\n",
      "Note: you may need to restart the kernel to use updated packages.\n"
     ]
    }
   ],
   "source": [
    "%pip install openai\n",
    "#%pip install -U openai-whisper"
   ]
  },
  {
   "cell_type": "code",
   "execution_count": null,
   "id": "d7923406",
   "metadata": {},
   "outputs": [],
   "source": [
    "#%pip uninstall selenium"
   ]
  },
  {
   "cell_type": "code",
   "execution_count": 1,
   "id": "524f0233",
   "metadata": {},
   "outputs": [
    {
     "name": "stdout",
     "output_type": "stream",
     "text": [
      "Collecting selenium\n",
      "  Using cached selenium-4.8.2-py3-none-any.whl (6.9 MB)\n",
      "Collecting trio~=0.17\n",
      "  Using cached trio-0.22.0-py3-none-any.whl (384 kB)\n",
      "Requirement already satisfied: urllib3[socks]~=1.26 in c:\\users\\elmat\\anaconda3\\envs\\finpro\\lib\\site-packages (from selenium) (1.26.14)\n",
      "Requirement already satisfied: certifi>=2021.10.8 in c:\\users\\elmat\\anaconda3\\envs\\finpro\\lib\\site-packages (from selenium) (2022.12.7)\n",
      "Collecting trio-websocket~=0.9\n",
      "  Using cached trio_websocket-0.9.2-py3-none-any.whl (16 kB)\n",
      "Collecting cffi>=1.14\n",
      "  Downloading cffi-1.15.1-cp310-cp310-win_amd64.whl (179 kB)\n",
      "     -------------------------------------- 179.1/179.1 kB 3.6 MB/s eta 0:00:00\n",
      "Collecting outcome\n",
      "  Using cached outcome-1.2.0-py2.py3-none-any.whl (9.7 kB)\n",
      "Collecting exceptiongroup>=1.0.0rc9\n",
      "  Using cached exceptiongroup-1.1.0-py3-none-any.whl (14 kB)\n",
      "Requirement already satisfied: attrs>=19.2.0 in c:\\users\\elmat\\anaconda3\\envs\\finpro\\lib\\site-packages (from trio~=0.17->selenium) (22.2.0)\n",
      "Collecting sortedcontainers\n",
      "  Using cached sortedcontainers-2.4.0-py2.py3-none-any.whl (29 kB)\n",
      "Requirement already satisfied: idna in c:\\users\\elmat\\anaconda3\\envs\\finpro\\lib\\site-packages (from trio~=0.17->selenium) (3.4)\n",
      "Collecting async-generator>=1.9\n",
      "  Using cached async_generator-1.10-py3-none-any.whl (18 kB)\n",
      "Collecting sniffio\n",
      "  Using cached sniffio-1.3.0-py3-none-any.whl (10 kB)\n",
      "Collecting wsproto>=0.14\n",
      "  Using cached wsproto-1.2.0-py3-none-any.whl (24 kB)\n",
      "Collecting PySocks!=1.5.7,<2.0,>=1.5.6\n",
      "  Using cached PySocks-1.7.1-py3-none-any.whl (16 kB)\n",
      "Collecting pycparser\n",
      "  Using cached pycparser-2.21-py2.py3-none-any.whl (118 kB)\n",
      "Collecting h11<1,>=0.9.0\n",
      "  Using cached h11-0.14.0-py3-none-any.whl (58 kB)\n",
      "Installing collected packages: sortedcontainers, sniffio, PySocks, pycparser, outcome, h11, exceptiongroup, async-generator, wsproto, cffi, trio, trio-websocket, selenium\n",
      "Successfully installed PySocks-1.7.1 async-generator-1.10 cffi-1.15.1 exceptiongroup-1.1.0 h11-0.14.0 outcome-1.2.0 pycparser-2.21 selenium-4.8.2 sniffio-1.3.0 sortedcontainers-2.4.0 trio-0.22.0 trio-websocket-0.9.2 wsproto-1.2.0\n",
      "Note: you may need to restart the kernel to use updated packages.\n"
     ]
    }
   ],
   "source": [
    "%pip install selenium"
   ]
  },
  {
   "cell_type": "code",
   "execution_count": 2,
   "id": "d1635821",
   "metadata": {},
   "outputs": [
    {
     "name": "stdout",
     "output_type": "stream",
     "text": [
      "Collecting webdriver-manager\n",
      "  Using cached webdriver_manager-3.8.5-py2.py3-none-any.whl (27 kB)\n",
      "Collecting python-dotenv\n",
      "  Using cached python_dotenv-1.0.0-py3-none-any.whl (19 kB)\n",
      "Requirement already satisfied: tqdm in c:\\users\\elmat\\anaconda3\\envs\\finpro\\lib\\site-packages (from webdriver-manager) (4.65.0)\n",
      "Requirement already satisfied: requests in c:\\users\\elmat\\anaconda3\\envs\\finpro\\lib\\site-packages (from webdriver-manager) (2.28.2)\n",
      "Requirement already satisfied: packaging in c:\\users\\elmat\\anaconda3\\envs\\finpro\\lib\\site-packages (from webdriver-manager) (23.0)\n",
      "Requirement already satisfied: urllib3<1.27,>=1.21.1 in c:\\users\\elmat\\anaconda3\\envs\\finpro\\lib\\site-packages (from requests->webdriver-manager) (1.26.14)\n",
      "Requirement already satisfied: certifi>=2017.4.17 in c:\\users\\elmat\\anaconda3\\envs\\finpro\\lib\\site-packages (from requests->webdriver-manager) (2022.12.7)\n",
      "Requirement already satisfied: idna<4,>=2.5 in c:\\users\\elmat\\anaconda3\\envs\\finpro\\lib\\site-packages (from requests->webdriver-manager) (3.4)\n",
      "Requirement already satisfied: charset-normalizer<4,>=2 in c:\\users\\elmat\\anaconda3\\envs\\finpro\\lib\\site-packages (from requests->webdriver-manager) (3.1.0)\n",
      "Requirement already satisfied: colorama in c:\\users\\elmat\\anaconda3\\envs\\finpro\\lib\\site-packages (from tqdm->webdriver-manager) (0.4.6)\n",
      "Installing collected packages: python-dotenv, webdriver-manager\n",
      "Successfully installed python-dotenv-1.0.0 webdriver-manager-3.8.5\n",
      "Note: you may need to restart the kernel to use updated packages.\n"
     ]
    }
   ],
   "source": [
    "%pip install webdriver-manager"
   ]
  },
  {
   "cell_type": "code",
   "execution_count": null,
   "id": "3892d7d1",
   "metadata": {},
   "outputs": [],
   "source": [
    "#%pip install tqdm"
   ]
  },
  {
   "cell_type": "code",
   "execution_count": null,
   "id": "12da58d8",
   "metadata": {},
   "outputs": [],
   "source": [
    "#%pip install deepspeech\n"
   ]
  },
  {
   "cell_type": "code",
   "execution_count": 1,
   "id": "ec66e737",
   "metadata": {},
   "outputs": [
    {
     "name": "stdout",
     "output_type": "stream",
     "text": [
      "Collecting SpeechRecognition\n",
      "  Using cached SpeechRecognition-3.9.0-py2.py3-none-any.whl (32.8 MB)\n",
      "Collecting requests>=2.26.0\n",
      "  Using cached requests-2.28.2-py3-none-any.whl (62 kB)\n",
      "Requirement already satisfied: certifi>=2017.4.17 in c:\\users\\elmat\\anaconda3\\envs\\luna\\lib\\site-packages (from requests>=2.26.0->SpeechRecognition) (2022.12.7)\n",
      "Collecting idna<4,>=2.5\n",
      "  Using cached idna-3.4-py3-none-any.whl (61 kB)\n",
      "Collecting charset-normalizer<4,>=2\n",
      "  Using cached charset_normalizer-3.1.0-cp39-cp39-win_amd64.whl (97 kB)\n",
      "Collecting urllib3<1.27,>=1.21.1\n",
      "  Using cached urllib3-1.26.14-py2.py3-none-any.whl (140 kB)\n",
      "Installing collected packages: urllib3, idna, charset-normalizer, requests, SpeechRecognition\n",
      "Successfully installed SpeechRecognition-3.9.0 charset-normalizer-3.1.0 idna-3.4 requests-2.28.2 urllib3-1.26.14\n",
      "Note: you may need to restart the kernel to use updated packages.\n"
     ]
    }
   ],
   "source": [
    "%pip install SpeechRecognition"
   ]
  },
  {
   "cell_type": "code",
   "execution_count": 2,
   "id": "976e316e",
   "metadata": {},
   "outputs": [
    {
     "name": "stdout",
     "output_type": "stream",
     "text": [
      "Collecting PyAudio\n",
      "  Using cached PyAudio-0.2.13-cp39-cp39-win_amd64.whl (164 kB)\n",
      "Installing collected packages: PyAudio\n",
      "Successfully installed PyAudio-0.2.13\n",
      "Note: you may need to restart the kernel to use updated packages.\n"
     ]
    }
   ],
   "source": [
    "%pip install PyAudio"
   ]
  },
  {
   "cell_type": "code",
   "execution_count": 1,
   "id": "b0d51d69",
   "metadata": {},
   "outputs": [
    {
     "name": "stdout",
     "output_type": "stream",
     "text": [
      "Collecting vosk\n",
      "  Using cached vosk-0.3.45-py3-none-win_amd64.whl (14.0 MB)\n",
      "Requirement already satisfied: requests in c:\\users\\elmat\\anaconda3\\envs\\finpro\\lib\\site-packages (from vosk) (2.28.2)\n",
      "Requirement already satisfied: websockets in c:\\users\\elmat\\anaconda3\\envs\\finpro\\lib\\site-packages (from vosk) (10.4)\n",
      "Requirement already satisfied: tqdm in c:\\users\\elmat\\anaconda3\\envs\\finpro\\lib\\site-packages (from vosk) (4.65.0)\n",
      "Requirement already satisfied: cffi>=1.0 in c:\\users\\elmat\\anaconda3\\envs\\finpro\\lib\\site-packages (from vosk) (1.15.1)\n",
      "Requirement already satisfied: srt in c:\\users\\elmat\\anaconda3\\envs\\finpro\\lib\\site-packages (from vosk) (3.5.2)\n",
      "Requirement already satisfied: pycparser in c:\\users\\elmat\\anaconda3\\envs\\finpro\\lib\\site-packages (from cffi>=1.0->vosk) (2.21)\n",
      "Requirement already satisfied: urllib3<1.27,>=1.21.1 in c:\\users\\elmat\\anaconda3\\envs\\finpro\\lib\\site-packages (from requests->vosk) (1.26.14)\n",
      "Requirement already satisfied: certifi>=2017.4.17 in c:\\users\\elmat\\anaconda3\\envs\\finpro\\lib\\site-packages (from requests->vosk) (2022.12.7)\n",
      "Requirement already satisfied: charset-normalizer<4,>=2 in c:\\users\\elmat\\anaconda3\\envs\\finpro\\lib\\site-packages (from requests->vosk) (3.1.0)\n",
      "Requirement already satisfied: idna<4,>=2.5 in c:\\users\\elmat\\anaconda3\\envs\\finpro\\lib\\site-packages (from requests->vosk) (3.4)\n",
      "Requirement already satisfied: colorama in c:\\users\\elmat\\anaconda3\\envs\\finpro\\lib\\site-packages (from tqdm->vosk) (0.4.6)\n",
      "Installing collected packages: vosk\n",
      "Successfully installed vosk-0.3.45\n",
      "Note: you may need to restart the kernel to use updated packages.\n"
     ]
    }
   ],
   "source": [
    "%pip install vosk"
   ]
  },
  {
   "cell_type": "code",
   "execution_count": null,
   "id": "2cbe780f",
   "metadata": {},
   "outputs": [],
   "source": []
  }
 ],
 "metadata": {
  "kernelspec": {
   "display_name": "Python 3 (ipykernel)",
   "language": "python",
   "name": "python3"
  },
  "language_info": {
   "codemirror_mode": {
    "name": "ipython",
    "version": 3
   },
   "file_extension": ".py",
   "mimetype": "text/x-python",
   "name": "python",
   "nbconvert_exporter": "python",
   "pygments_lexer": "ipython3",
   "version": "3.9.16"
  }
 },
 "nbformat": 4,
 "nbformat_minor": 5
}
