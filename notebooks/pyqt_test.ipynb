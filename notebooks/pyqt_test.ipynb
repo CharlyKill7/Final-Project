{
 "cells": [
  {
   "cell_type": "code",
   "execution_count": 1,
   "metadata": {},
   "outputs": [],
   "source": [
    "from PyQt5 import QtCore, QtGui, QtWidgets\n",
    "import sys\n"
   ]
  },
  {
   "cell_type": "code",
   "execution_count": 2,
   "metadata": {},
   "outputs": [],
   "source": [
    "class Luna(QtWidgets.QWidget):\n",
    "    def __init__(self):\n",
    "        super().__init__()\n",
    "\n",
    "        # Cargamos la imagen de la luna\n",
    "        self.luna = QtGui.QPixmap(r\"img\\crescent-moon-moon-svgrepo-com.svg\")\n",
    "\n",
    "        # Configuramos la ventana principal\n",
    "        self.setWindowTitle(\"Luna\")\n",
    "        self.setGeometry(50, 50, 100, 100)\n",
    "        self.setWindowFlags(QtCore.Qt.WindowStaysOnTopHint | QtCore.Qt.FramelessWindowHint)\n",
    "        self.setAttribute(QtCore.Qt.WA_TranslucentBackground)\n",
    "\n",
    "    def paintEvent(self, event):\n",
    "        painter = QtGui.QPainter(self)\n",
    "        painter.drawPixmap(self.rect(), self.luna)\n",
    "\n",
    "    def mousePressEvent(self, event):\n",
    "        if event.button() == QtCore.Qt.LeftButton:\n",
    "            self.drag_position = event.globalPos() - self.frameGeometry().topLeft()\n",
    "            event.accept()\n",
    "\n",
    "    def mouseMoveEvent(self, event):\n",
    "        if event.buttons() == QtCore.Qt.LeftButton:\n",
    "            self.move(event.globalPos() - self.drag_position)\n",
    "            event.accept()\n",
    "\n",
    "if __name__ == \"__main__\":\n",
    "    app = QtWidgets.QApplication(sys.argv)\n",
    "    luna = Luna()\n",
    "    luna.show()\n",
    "    sys.exit(app.exec_())"
   ]
  },
  {
   "cell_type": "code",
   "execution_count": null,
   "metadata": {},
   "outputs": [],
   "source": []
  },
  {
   "cell_type": "code",
   "execution_count": null,
   "metadata": {},
   "outputs": [],
   "source": []
  }
 ],
 "metadata": {
  "kernelspec": {
   "display_name": "luna",
   "language": "python",
   "name": "python3"
  },
  "language_info": {
   "codemirror_mode": {
    "name": "ipython",
    "version": 3
   },
   "file_extension": ".py",
   "mimetype": "text/x-python",
   "name": "python",
   "nbconvert_exporter": "python",
   "pygments_lexer": "ipython3",
   "version": "3.9.16"
  },
  "orig_nbformat": 4
 },
 "nbformat": 4,
 "nbformat_minor": 2
}
