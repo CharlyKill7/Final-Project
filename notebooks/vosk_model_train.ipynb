{
 "cells": [
  {
   "cell_type": "code",
   "execution_count": 1,
   "id": "4ec54ede",
   "metadata": {},
   "outputs": [],
   "source": [
    "import os\n",
    "import vosk"
   ]
  },
  {
   "cell_type": "code",
   "execution_count": 6,
   "id": "40b7272f",
   "metadata": {},
   "outputs": [
    {
     "name": "stdout",
     "output_type": "stream",
     "text": [
      "Help on Model in module vosk object:\n",
      "\n",
      "class Model(builtins.object)\n",
      " |  Model(model_path=None, model_name=None, lang=None)\n",
      " |  \n",
      " |  Methods defined here:\n",
      " |  \n",
      " |  __del__(self)\n",
      " |  \n",
      " |  __init__(self, model_path=None, model_name=None, lang=None)\n",
      " |      Initialize self.  See help(type(self)) for accurate signature.\n",
      " |  \n",
      " |  download_model(self, model_name)\n",
      " |  \n",
      " |  download_progress_hook(self, t)\n",
      " |  \n",
      " |  get_model_by_lang(self, lang)\n",
      " |  \n",
      " |  get_model_by_name(self, model_name)\n",
      " |  \n",
      " |  get_model_path(self, model_name, lang)\n",
      " |  \n",
      " |  vosk_model_find_word(self, word)\n",
      " |  \n",
      " |  ----------------------------------------------------------------------\n",
      " |  Data descriptors defined here:\n",
      " |  \n",
      " |  __dict__\n",
      " |      dictionary for instance variables (if defined)\n",
      " |  \n",
      " |  __weakref__\n",
      " |      list of weak references to the object (if defined)\n",
      "\n"
     ]
    }
   ],
   "source": []
  },
  {
   "cell_type": "code",
   "execution_count": null,
   "id": "fbb336e0",
   "metadata": {},
   "outputs": [],
   "source": []
  },
  {
   "cell_type": "code",
   "execution_count": null,
   "id": "c7b33d29",
   "metadata": {},
   "outputs": [],
   "source": []
  }
 ],
 "metadata": {
  "kernelspec": {
   "display_name": "Python 3 (ipykernel)",
   "language": "python",
   "name": "python3"
  },
  "language_info": {
   "codemirror_mode": {
    "name": "ipython",
    "version": 3
   },
   "file_extension": ".py",
   "mimetype": "text/x-python",
   "name": "python",
   "nbconvert_exporter": "python",
   "pygments_lexer": "ipython3",
   "version": "3.9.16"
  }
 },
 "nbformat": 4,
 "nbformat_minor": 5
}
