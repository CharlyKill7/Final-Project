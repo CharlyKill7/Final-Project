{
 "cells": [
  {
   "cell_type": "code",
   "execution_count": null,
   "metadata": {},
   "outputs": [],
   "source": [
    "from selenium import webdriver\n",
    "from webdriver_manager.chrome import ChromeDriverManager \n",
    "from selenium.webdriver.chrome.options import Options\n",
    "from selenium.webdriver.common.by import By # By es para buscar por tag, clase, id...\n",
    "import time\n",
    "import zmq\n",
    "import tqdm\n",
    "import warnings\n",
    "warnings.filterwarnings('ignore')\n",
    "\n",
    "from functions import procesar_mensaje\n",
    "\n",
    "options=Options()\n",
    "\n",
    "# quita la bandera de ser robot\n",
    "options.add_experimental_option('excludeSwitches', ['enable-automation'])\n",
    "options.add_experimental_option('useAutomationExtension', False)\n",
    "options.add_argument(\"--remote-allow-origins=*\");\n",
    "options.add_argument(r\"user-data-dir=C:\\Users\\elmat\\anaconda3\\envs\\final\\Lib\\site-packages\\selenium\"); "
   ]
  },
  {
   "cell_type": "code",
   "execution_count": null,
   "metadata": {},
   "outputs": [],
   "source": [
    "context = zmq.Context()\n",
    "socket_rec = context.socket(zmq.SUB)\n",
    "socket_rec.connect(\"tcp://127.0.0.1:5555\")\n",
    "socket_rec.setsockopt_string(zmq.SUBSCRIBE, \"whatsapp\")"
   ]
  },
  {
   "cell_type": "code",
   "execution_count": null,
   "metadata": {},
   "outputs": [],
   "source": [
    "message = socket_rec.recv_string()"
   ]
  },
  {
   "cell_type": "code",
   "execution_count": null,
   "metadata": {},
   "outputs": [],
   "source": [
    "mode, text, name = procesar_mensaje(message)\n",
    "print(f\"Modo: {mode}\")\n",
    "print(f\"Texto: {text}\")\n",
    "print(f\"Nombre: {name}\")"
   ]
  },
  {
   "cell_type": "code",
   "execution_count": null,
   "metadata": {},
   "outputs": [],
   "source": [
    "PATH = ChromeDriverManager().install() "
   ]
  },
  {
   "cell_type": "code",
   "execution_count": null,
   "metadata": {},
   "outputs": [],
   "source": [
    "driver=webdriver.Chrome(PATH, options=options) \n",
    "\n",
    "driver.get('https://web.whatsapp.com/')\n",
    "\n",
    "time.sleep(4)\n",
    "\n",
    "busca = driver.find_element(By.XPATH, '//*[@id=\"side\"]/div[1]/div/div/div[2]/div/div[2]')\n",
    "busca.click() \n",
    "busca.send_keys('pilar')\n",
    "\n",
    "time.sleep(3)\n",
    "\n",
    "uno = driver.find_element(By.XPATH, '//span[@class=\"matched-text _11JPr\"]')\n",
    "uno[0].click()\n",
    "\n",
    "txt = driver.find_element(By.XPATH,'//*[@id=\"main\"]/footer/div[1]/div/span[2]/div/div[2]/div[1]/div/div[1]/p')\n",
    "txt.send_keys('prueba')\n",
    "time.sleep(1)\n",
    "\n",
    "ent = driver.find_element(By.XPATH,'//*[@id=\"main\"]/footer/div[1]/div/span[2]/div/div[2]/div[2]')\n",
    "ent.click()"
   ]
  },
  {
   "cell_type": "code",
   "execution_count": null,
   "metadata": {},
   "outputs": [],
   "source": [
    "\n"
   ]
  }
 ],
 "metadata": {
  "kernelspec": {
   "display_name": "final",
   "language": "python",
   "name": "python3"
  },
  "language_info": {
   "codemirror_mode": {
    "name": "ipython",
    "version": 3
   },
   "file_extension": ".py",
   "mimetype": "text/x-python",
   "name": "python",
   "nbconvert_exporter": "python",
   "pygments_lexer": "ipython3",
   "version": "3.9.16"
  },
  "orig_nbformat": 4
 },
 "nbformat": 4,
 "nbformat_minor": 2
}
