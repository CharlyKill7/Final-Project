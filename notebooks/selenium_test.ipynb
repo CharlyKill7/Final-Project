{
 "cells": [
  {
   "cell_type": "code",
   "execution_count": 13,
   "id": "6ef4b9ce",
   "metadata": {},
   "outputs": [],
   "source": [
    "from selenium import webdriver\n",
    "from webdriver_manager.chrome import ChromeDriverManager \n",
    "from selenium.webdriver.chrome.options import Options\n",
    "from selenium.webdriver.common.by import By # By es para buscar por tag, clase, id...\n",
    "from selenium.webdriver.common.keys import Keys\n",
    "import time\n",
    "import tqdm\n",
    "import warnings\n",
    "warnings.filterwarnings('ignore')\n",
    "\n",
    "options=Options()\n",
    "\n",
    "# quita la bandera de ser robot\n",
    "options.add_experimental_option('excludeSwitches', ['enable-automation'])\n",
    "options.add_experimental_option('useAutomationExtension', False)\n",
    "options.add_argument(\"--remote-allow-origins=*\");\n",
    "options.add_argument(r\"user-data-dir=C:\\Users\\elmat\\anaconda3\\envs\\final\\Lib\\site-packages\\selenium\"); \n",
    "\n",
    "PATH = ChromeDriverManager().install() \n",
    "driver=webdriver.Chrome(PATH, options=options) \n",
    "\n",
    "driver.get('https://web.whatsapp.com/')\n",
    "\n",
    "time.sleep(4)\n",
    "\n",
    "busca = driver.find_element(By.XPATH, '//*[@id=\"side\"]/div[1]/div/div/div[2]/div/div[2]')\n",
    "busca.click() \n",
    "busca.send_keys('pedro ironhack')\n",
    "time.sleep(2)\n",
    "busca.click()\n",
    "busca.send_keys('')\n",
    "time.sleep(1)\n",
    "busca.send_keys(Keys.TAB, Keys.TAB)\n",
    "time.sleep(0.5)\n",
    "busca.send_keys(Keys.TAB, Keys.TAB, Keys.TAB, Keys.TAB, Keys.TAB, Keys.TAB)\n",
    "\n",
    "\n",
    "txt = driver.find_element(By.XPATH,'//*[@id=\"main\"]/footer/div[1]/div/span[2]/div/div[2]/div[1]/div/div[1]')\n",
    "txt.send_keys('prueba')\n",
    "time.sleep(1)\n",
    "\n",
    "ent = driver.find_element(By.XPATH,'//*[@id=\"main\"]/footer/div[1]/div/span[2]/div/div[2]/div[2]')\n",
    "ent.click()"
   ]
  },
  {
   "cell_type": "code",
   "execution_count": null,
   "id": "4071b8b7",
   "metadata": {},
   "outputs": [],
   "source": []
  }
 ],
 "metadata": {
  "kernelspec": {
   "display_name": "Python 3 (ipykernel)",
   "language": "python",
   "name": "python3"
  },
  "language_info": {
   "codemirror_mode": {
    "name": "ipython",
    "version": 3
   },
   "file_extension": ".py",
   "mimetype": "text/x-python",
   "name": "python",
   "nbconvert_exporter": "python",
   "pygments_lexer": "ipython3",
   "version": "3.9.16"
  }
 },
 "nbformat": 4,
 "nbformat_minor": 5
}
