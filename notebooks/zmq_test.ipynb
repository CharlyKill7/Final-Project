{
 "cells": [
  {
   "cell_type": "code",
   "execution_count": 1,
   "id": "30830028",
   "metadata": {},
   "outputs": [],
   "source": [
    "import zmq"
   ]
  },
  {
   "cell_type": "code",
   "execution_count": 2,
   "id": "fd5606e9",
   "metadata": {},
   "outputs": [],
   "source": [
    "# Definir el contexto\n",
    "\n",
    "context = zmq.Context()"
   ]
  },
  {
   "cell_type": "code",
   "execution_count": 4,
   "id": "4a6a7987",
   "metadata": {},
   "outputs": [
    {
     "ename": "NameError",
     "evalue": "name 'getaddrinfo' is not defined",
     "output_type": "error",
     "traceback": [
      "\u001b[1;31m---------------------------------------------------------------------------\u001b[0m",
      "\u001b[1;31mNameError\u001b[0m                                 Traceback (most recent call last)",
      "Cell \u001b[1;32mIn[4], line 1\u001b[0m\n\u001b[1;32m----> 1\u001b[0m \u001b[43mgetaddrinfo\u001b[49m(\u001b[38;5;124m'\u001b[39m\u001b[38;5;124mlocalhost\u001b[39m\u001b[38;5;124m'\u001b[39m)\n",
      "\u001b[1;31mNameError\u001b[0m: name 'getaddrinfo' is not defined"
     ]
    }
   ],
   "source": []
  },
  {
   "cell_type": "code",
   "execution_count": null,
   "id": "c2844b4c",
   "metadata": {},
   "outputs": [],
   "source": [
    "# Crear el socket emisor\n",
    "\n",
    "emisor_socket = context.socket(zmq.PUSH)\n",
    "emisor_socket.bind(\"tcp://127.0.0.1:5555\")"
   ]
  }
 ],
 "metadata": {
  "kernelspec": {
   "display_name": "Python 3 (ipykernel)",
   "language": "python",
   "name": "python3"
  },
  "language_info": {
   "codemirror_mode": {
    "name": "ipython",
    "version": 3
   },
   "file_extension": ".py",
   "mimetype": "text/x-python",
   "name": "python",
   "nbconvert_exporter": "python",
   "pygments_lexer": "ipython3",
   "version": "3.9.16"
  }
 },
 "nbformat": 4,
 "nbformat_minor": 5
}
