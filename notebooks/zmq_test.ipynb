{
 "cells": [
  {
   "cell_type": "code",
   "execution_count": 1,
   "id": "30830028",
   "metadata": {},
   "outputs": [],
   "source": [
    "import zmq"
   ]
  },
  {
   "cell_type": "code",
   "execution_count": 2,
   "id": "fd5606e9",
   "metadata": {},
   "outputs": [],
   "source": [
    "# Definir el contexto\n",
    "\n",
    "context = zmq.Context()"
   ]
  },
  {
   "cell_type": "code",
   "execution_count": null,
   "id": "c2844b4c",
   "metadata": {},
   "outputs": [],
   "source": [
    "# Crear el socket emisor\n",
    "\n",
    "emisor_socket = context.socket(zmq.PUSH)\n",
    "emisor_socket.bind(\"tcp://127.0.0.1:5555\")"
   ]
  }
 ],
 "metadata": {
  "kernelspec": {
   "display_name": "Python 3 (ipykernel)",
   "language": "python",
   "name": "python3"
  },
  "language_info": {
   "codemirror_mode": {
    "name": "ipython",
    "version": 3
   },
   "file_extension": ".py",
   "mimetype": "text/x-python",
   "name": "python",
   "nbconvert_exporter": "python",
   "pygments_lexer": "ipython3",
   "version": "3.9.16"
  }
 },
 "nbformat": 4,
 "nbformat_minor": 5
}
