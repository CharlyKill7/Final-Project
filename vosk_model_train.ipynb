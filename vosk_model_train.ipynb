{
 "cells": [
  {
   "cell_type": "code",
   "execution_count": null,
   "id": "4ec54ede",
   "metadata": {},
   "outputs": [],
   "source": [
    " "
   ]
  },
  {
   "cell_type": "code",
   "execution_count": 1,
   "id": "40b7272f",
   "metadata": {},
   "outputs": [],
   "source": [
    "with open(\"models/new_words.txt\") as f:\n",
    "    palabras = f.readlines()\n",
    "    palabras = [x.strip() for x in palabras]"
   ]
  },
  {
   "cell_type": "code",
   "execution_count": 3,
   "id": "fbb336e0",
   "metadata": {},
   "outputs": [
    {
     "ename": "AttributeError",
     "evalue": "'Model' object has no attribute 'set_words'",
     "output_type": "error",
     "traceback": [
      "\u001b[1;31m---------------------------------------------------------------------------\u001b[0m",
      "\u001b[1;31mAttributeError\u001b[0m                            Traceback (most recent call last)",
      "Cell \u001b[1;32mIn[3], line 7\u001b[0m\n\u001b[0;32m      4\u001b[0m model \u001b[38;5;241m=\u001b[39m Model(\u001b[38;5;124m\"\u001b[39m\u001b[38;5;124mmodels/vosk-model-es-0.42\u001b[39m\u001b[38;5;124m\"\u001b[39m) \n\u001b[0;32m      6\u001b[0m \u001b[38;5;66;03m# Agregar las palabras al modelo \u001b[39;00m\n\u001b[1;32m----> 7\u001b[0m \u001b[43mmodel\u001b[49m\u001b[38;5;241;43m.\u001b[39;49m\u001b[43mset_words\u001b[49m(palabras)\n",
      "\u001b[1;31mAttributeError\u001b[0m: 'Model' object has no attribute 'set_words'"
     ]
    }
   ],
   "source": [
    "from vosk import Model \n",
    "\n",
    "# Cargar el modelo model_path = \"ruta/a/mi/modelo\" \n",
    "model = Model(\"models/vosk-model-es-0.42\") \n",
    "\n",
    "# Agregar las palabras al modelo \n",
    "model.set_words(palabras)"
   ]
  },
  {
   "cell_type": "code",
   "execution_count": null,
   "id": "c7b33d29",
   "metadata": {},
   "outputs": [],
   "source": []
  }
 ],
 "metadata": {
  "kernelspec": {
   "display_name": "Python 3 (ipykernel)",
   "language": "python",
   "name": "python3"
  },
  "language_info": {
   "codemirror_mode": {
    "name": "ipython",
    "version": 3
   },
   "file_extension": ".py",
   "mimetype": "text/x-python",
   "name": "python",
   "nbconvert_exporter": "python",
   "pygments_lexer": "ipython3",
   "version": "3.9.16"
  }
 },
 "nbformat": 4,
 "nbformat_minor": 5
}
