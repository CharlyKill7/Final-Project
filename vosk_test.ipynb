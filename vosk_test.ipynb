{
 "cells": [
  {
   "cell_type": "code",
   "execution_count": 1,
   "id": "d28c0672",
   "metadata": {},
   "outputs": [],
   "source": [
    "#%pip install vosk\n",
    "#%pip install pyaudio"
   ]
  },
  {
   "cell_type": "code",
   "execution_count": 2,
   "id": "d7638a9a",
   "metadata": {},
   "outputs": [],
   "source": [
    "import vosk\n",
    "import os\n",
    "import time"
   ]
  },
  {
   "cell_type": "code",
   "execution_count": 3,
   "id": "e89f2dac",
   "metadata": {},
   "outputs": [
    {
     "name": "stdout",
     "output_type": "stream",
     "text": [
      "CPU times: total: 24.7 s\n",
      "Wall time: 25.9 s\n"
     ]
    }
   ],
   "source": [
    "%%time\n",
    "\n",
    "# Cargar el modelo de lenguaje en español\n",
    "model = vosk.Model(\"models/vosk-model-es-0.42\")\n",
    "\n",
    "# Crear el reconocedor de voz\n",
    "rec = vosk.KaldiRecognizer(model, 16000)"
   ]
  },
  {
   "cell_type": "code",
   "execution_count": null,
   "id": "1150fe80",
   "metadata": {},
   "outputs": [
    {
     "name": "stdout",
     "output_type": "stream",
     "text": [
      "{\n",
      "  \"text\" : \"no va a empezar a dar los lookbooks empezará cuando acaso no la pilla ahora debería empezar a tirar ahí algún tarda un poco\"\n",
      "}\n",
      "{\n",
      "  \"text\" : \"claro lo que estoy intentando en el fondo al final el guión de la máquina pero viene por cristianos en subway luna o corriendo mierda\"\n",
      "}\n",
      "{\n",
      "  \"text\" : \"claro que el weil uno nos prime nada solo queda ahí ahora está escuchando porque le he dicho luna sabe pero como ves en fondo al final el guión de la vida tiene cristianos savoy se equivoca bastante corriendo mierda eso si lo pillas\"\n",
      "}\n",
      "{\n",
      "  \"text\" : \"nadie intentando con visual es que este output se venga directo a steep out\"\n",
      "}\n",
      "{\n",
      "  \"text\" : \"y es ganchillo\"\n",
      "}\n",
      "{\n",
      "  \"text\" : \"uno el output no es que termines coges el autobús tienes que cogerlo mientras el wild\"\n",
      "}\n",
      "{\n",
      "  \"text\" : \"claro no puedes coger y así por la variable y la variable importa claro sabes pero si no puedes hacer nada\"\n",
      "}\n",
      "{\n",
      "  \"text\" : \"lo puedes si lo puede hacer sí pero siberia asia maceta cimeq\"\n",
      "}\n",
      "{\n",
      "  \"text\" : \"qué es\"\n",
      "}\n",
      "{\n",
      "  \"text\" : \"es famoso que se entraba y salía como te vendes a un puerto y desde el puerto mandas mensajes aporte los recelos sacas del puerto edimburgo centrales y sí básicamente posea comunicantes pero entre que hicieras una terminada para probar cosas cuantas veces newborn sede de proyectos de rédito final de las críticas hasta la olla\"\n",
      "}\n",
      "{\n",
      "  \"text\" : \"necesito la ceguedad\"\n",
      "}\n",
      "{\n",
      "  \"text\" : \"un ejemplo\"\n",
      "}\n",
      "{\n",
      "  \"text\" : \"bastante\"\n",
      "}\n",
      "{\n",
      "  \"text\" : \"gracias\"\n",
      "}\n",
      "{\n",
      "  \"text\" : \"banner\"\n",
      "}\n",
      "{\n",
      "  \"text\" : \"familia\"\n",
      "}\n",
      "{\n",
      "  \"text\" : \"son nazarenos\"\n",
      "}\n"
     ]
    }
   ],
   "source": [
    "import pyaudio\n",
    "\n",
    "# Configurar el dispositivo de audio\n",
    "audio = pyaudio.PyAudio()\n",
    "stream = audio.open(format=pyaudio.paInt16,   # formato de datos de audio que se van a grabar. En este caso, se utiliza pyaudio.paInt16, que es un formato de 16 bits que se utiliza comúnmente para la grabación de voz.\n",
    "                    channels=1,               # número de canales de audio que se van a grabar. En este caso, se utiliza 1, que es el número de canales para grabación mono.\n",
    "                    rate=16000,               # tasa de muestreo de audio que se va a utilizar. En este caso, se utiliza 16000, que es una tasa de muestreo común para grabación de voz.\n",
    "                    input=True,               # booleano que indica si el flujo de audio es de entrada o salida. En este caso, se utiliza True para indicar que se va a grabar audio desde el dispositivo.\n",
    "                    frames_per_buffer=8000)   # número de cuadros de audio que se van a leer cada vez que se lee del flujo de audio. En este caso, se utiliza 8000, que es el número de cuadros que se leerán cada vez que se lee del flujo de audio.\n",
    "\n",
    "# Definir las palabras clave\n",
    "clave = \"luna\"\n",
    "clave_stop = \"tierra\"\n",
    "\n",
    "# Inicializar el reconocedor de voz\n",
    "rec = vosk.KaldiRecognizer(model, 16000)\n",
    "\n",
    "# Variables de control\n",
    "grabando = False\n",
    "\n",
    "while True:\n",
    "    # Leer un fragmento de audio\n",
    "    data = stream.read(4000, exception_on_overflow=False)\n",
    "    # Alimentar el fragmento de audio al reconocedor de voz\n",
    "    if rec.AcceptWaveform(data):\n",
    "        # Obtener la transcripción\n",
    "        result = rec.Result()\n",
    "        if clave in result:\n",
    "            grabando = True\n",
    "            while grabando:\n",
    "                data = stream.read(4000, exception_on_overflow=False)\n",
    "                if rec.AcceptWaveform(data):\n",
    "                    result2 = rec.Result()\n",
    "                    if 'xt\" : \"\"' not in result2:\n",
    "                        time.sleep(0.5)\n",
    "                        var = print(result2)\n",
    "                        if clave_stop in result2:\n",
    "                            grabando = False"
   ]
  },
  {
   "cell_type": "code",
   "execution_count": null,
   "id": "482c25f1",
   "metadata": {},
   "outputs": [],
   "source": []
  }
 ],
 "metadata": {
  "kernelspec": {
   "display_name": "Python 3 (ipykernel)",
   "language": "python",
   "name": "python3"
  },
  "language_info": {
   "codemirror_mode": {
    "name": "ipython",
    "version": 3
   },
   "file_extension": ".py",
   "mimetype": "text/x-python",
   "name": "python",
   "nbconvert_exporter": "python",
   "pygments_lexer": "ipython3",
   "version": "3.9.16"
  }
 },
 "nbformat": 4,
 "nbformat_minor": 5
}
