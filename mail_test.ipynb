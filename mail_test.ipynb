{
 "cells": [
  {
   "cell_type": "code",
   "execution_count": 1,
   "metadata": {},
   "outputs": [],
   "source": [
    "from selenium import webdriver\n",
    "from webdriver_manager.chrome import ChromeDriverManager \n",
    "from selenium.webdriver.chrome.options import Options\n",
    "from selenium.webdriver.common.by import By \n",
    "from selenium.webdriver.common.keys import Keys\n",
    "from selenium.webdriver.support.ui import WebDriverWait\n",
    "from selenium.webdriver.support import expected_conditions as EC\n",
    "\n",
    "import time\n",
    "import warnings\n",
    "warnings.filterwarnings('ignore')\n",
    "\n",
    "options=Options()\n",
    "\n",
    "# quita la bandera de ser robot\n",
    "options.add_experimental_option('excludeSwitches', ['enable-automation'])\n",
    "options.add_experimental_option('useAutomationExtension', False)\n",
    "options.add_argument(\"--remote-allow-origins=*\");\n",
    "options.add_argument(r\"user-data-dir=C:\\Users\\elmat\\anaconda3\\envs\\final\\Lib\\site-packages\\selenium\")\n",
    "options.add_experimental_option(\"detach\", True)    #Esta opción corrige el error de cierre repentino"
   ]
  },
  {
   "cell_type": "code",
   "execution_count": 2,
   "metadata": {},
   "outputs": [],
   "source": [
    "PATH = ChromeDriverManager().install() "
   ]
  },
  {
   "cell_type": "code",
   "execution_count": 3,
   "metadata": {},
   "outputs": [],
   "source": [
    "driver=webdriver.Chrome(PATH, options=options) \n",
    "\n",
    "driver.get('https://accounts.google.com/b/0/AddMailService')\n"
   ]
  },
  {
   "cell_type": "code",
   "execution_count": null,
   "metadata": {},
   "outputs": [],
   "source": [
    "time.sleep(4)\n",
    "\n",
    "busca = driver.find_element(By.XPATH, '//*[@id=\"side\"]/div[1]/div/div/div[2]/div/div[2]')\n",
    "busca.click() \n",
    "busca.send_keys('pilar')\n",
    "\n",
    "time.sleep(3)\n",
    "\n",
    "uno = driver.find_element(By.XPATH, '//span[@class=\"matched-text _11JPr\"]')\n",
    "uno[0].click()\n",
    "\n",
    "txt = driver.find_element(By.XPATH,'//*[@id=\"main\"]/footer/div[1]/div/span[2]/div/div[2]/div[1]/div/div[1]/p')\n",
    "txt.send_keys('prueba')\n",
    "time.sleep(0.5)\n",
    "\n",
    "ent = driver.find_element(By.XPATH,'//*[@id=\"main\"]/footer/div[1]/div/span[2]/div/div[2]/div[2]')\n",
    "ent.click()"
   ]
  }
 ],
 "metadata": {
  "kernelspec": {
   "display_name": "luna",
   "language": "python",
   "name": "python3"
  },
  "language_info": {
   "codemirror_mode": {
    "name": "ipython",
    "version": 3
   },
   "file_extension": ".py",
   "mimetype": "text/x-python",
   "name": "python",
   "nbconvert_exporter": "python",
   "pygments_lexer": "ipython3",
   "version": "3.9.16"
  },
  "orig_nbformat": 4
 },
 "nbformat": 4,
 "nbformat_minor": 2
}
