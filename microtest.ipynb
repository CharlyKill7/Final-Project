{
 "cells": [
  {
   "cell_type": "code",
   "execution_count": 5,
   "metadata": {},
   "outputs": [
    {
     "name": "stdout",
     "output_type": "stream",
     "text": [
      "Microphone with name \"Microsoft Sound Mapper - Input\" found for `Microphone(device_index=0)`\n",
      "Microphone with name \"External Mic (Realtek(R) Audio)\" found for `Microphone(device_index=1)`\n",
      "Microphone with name \"Microphone Array (Realtek(R) Au\" found for `Microphone(device_index=2)`\n",
      "Microphone with name \"Microsoft Sound Mapper - Output\" found for `Microphone(device_index=3)`\n",
      "Microphone with name \"Realtek HD Audio 2nd output (Re\" found for `Microphone(device_index=4)`\n",
      "Microphone with name \"Altavoces (Realtek(R) Audio)\" found for `Microphone(device_index=5)`\n",
      "Microphone with name \"Primary Sound Capture Driver\" found for `Microphone(device_index=6)`\n",
      "Microphone with name \"External Mic (Realtek(R) Audio)\" found for `Microphone(device_index=7)`\n",
      "Microphone with name \"Microphone Array (Realtek(R) Audio)\" found for `Microphone(device_index=8)`\n",
      "Microphone with name \"Primary Sound Driver\" found for `Microphone(device_index=9)`\n",
      "Microphone with name \"Realtek HD Audio 2nd output (Realtek(R) Audio)\" found for `Microphone(device_index=10)`\n",
      "Microphone with name \"Altavoces (Realtek(R) Audio)\" found for `Microphone(device_index=11)`\n",
      "Microphone with name \"Realtek HD Audio 2nd output (Realtek(R) Audio)\" found for `Microphone(device_index=12)`\n",
      "Microphone with name \"Altavoces (Realtek(R) Audio)\" found for `Microphone(device_index=13)`\n",
      "Microphone with name \"External Mic (Realtek(R) Audio)\" found for `Microphone(device_index=14)`\n",
      "Microphone with name \"Microphone Array (Realtek(R) Audio)\" found for `Microphone(device_index=15)`\n",
      "Microphone with name \"Stereo Mix (Realtek HD Audio Stereo input)\" found for `Microphone(device_index=16)`\n",
      "Microphone with name \"Speakers 1 (Realtek HD Audio output with HAP)\" found for `Microphone(device_index=17)`\n",
      "Microphone with name \"Speakers 2 (Realtek HD Audio output with HAP)\" found for `Microphone(device_index=18)`\n",
      "Microphone with name \"PC Speaker (Realtek HD Audio output with HAP)\" found for `Microphone(device_index=19)`\n",
      "Microphone with name \"Mic in at rear panel (black) (Mic in at rear panel (black))\" found for `Microphone(device_index=20)`\n",
      "Microphone with name \"Headphones 1 (Realtek HD Audio 2nd output with HAP)\" found for `Microphone(device_index=21)`\n",
      "Microphone with name \"Headphones 2 (Realtek HD Audio 2nd output with HAP)\" found for `Microphone(device_index=22)`\n",
      "Microphone with name \"PC Speaker (Realtek HD Audio 2nd output with HAP)\" found for `Microphone(device_index=23)`\n",
      "Microphone with name \"Microphone Array (Realtek HD Audio Mic input)\" found for `Microphone(device_index=24)`\n"
     ]
    }
   ],
   "source": [
    "import speech_recognition as sr\n",
    "\n",
    "# Listar los nombres de todos los micrófonos disponibles\n",
    "for index, name in enumerate(sr.Microphone.list_microphone_names()):\n",
    "    print(\"Microphone with name \\\"{1}\\\" found for `Microphone(device_index={0})`\".format(index, name))\n",
    "\n",
    "# Establecer el índice del micrófono que desea utilizar\n",
    "#mic_index = # ingrese aquí el índice del micrófono que desea utilizar\n"
   ]
  },
  {
   "cell_type": "code",
   "execution_count": null,
   "metadata": {},
   "outputs": [],
   "source": []
  }
 ],
 "metadata": {
  "kernelspec": {
   "display_name": "luna",
   "language": "python",
   "name": "python3"
  },
  "language_info": {
   "codemirror_mode": {
    "name": "ipython",
    "version": 3
   },
   "file_extension": ".py",
   "mimetype": "text/x-python",
   "name": "python",
   "nbconvert_exporter": "python",
   "pygments_lexer": "ipython3",
   "version": "3.9.16"
  },
  "orig_nbformat": 4
 },
 "nbformat": 4,
 "nbformat_minor": 2
}
